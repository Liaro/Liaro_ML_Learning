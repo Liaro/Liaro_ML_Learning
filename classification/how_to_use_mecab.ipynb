{
 "cells": [
  {
   "cell_type": "code",
   "execution_count": 1,
   "metadata": {
    "collapsed": true
   },
   "outputs": [],
   "source": [
    "import MeCab"
   ]
  },
  {
   "cell_type": "code",
   "execution_count": 21,
   "metadata": {
    "collapsed": false
   },
   "outputs": [
    {
     "name": "stdout",
     "output_type": "stream",
     "text": [
      "['はじめまして', 'ハジメマシテ', 'はじめまして', '感動詞', '。', '。', '。', '記号-句点', '私', 'ワタシ', '私', '名詞-代名詞-一般', 'が', 'ガ', 'が', '助詞-格助詞-一般', '吉井', 'ヨシイ', '吉井', '名詞-固有名詞-人名-姓', 'です', 'デス', 'です', '助動詞', '特殊・デス', '基本形', '。', '。', '。', '記号-句点', 'EOS']\n"
     ]
    }
   ],
   "source": [
    "# 普通に使ってみる\n",
    "mt = MeCab.Tagger(\"-Ochasen\")\n",
    "print (mt.parse(\"はじめまして。私が吉井です。\"))"
   ]
  },
  {
   "cell_type": "code",
   "execution_count": 11,
   "metadata": {
    "collapsed": false
   },
   "outputs": [
    {
     "name": "stdout",
     "output_type": "stream",
     "text": [
      "\n",
      "BOS/EOS,*,*,*,*,*,*,*,*\n",
      "よろしく\n",
      "副詞,一般,*,*,*,*,よろしく,ヨロシク,ヨロシク\n",
      "お願い\n",
      "名詞,サ変接続,*,*,*,*,お願い,オネガイ,オネガイ\n",
      "し\n",
      "動詞,自立,*,*,サ変・スル,連用形,する,シ,シ\n",
      "ます\n",
      "助動詞,*,*,*,特殊・マス,基本形,ます,マス,マス\n",
      "。\n",
      "記号,句点,*,*,*,*,。,。,。\n",
      "\n",
      "BOS/EOS,*,*,*,*,*,*,*,*\n"
     ]
    }
   ],
   "source": [
    "# より詳細な情報を取得\n",
    "res = mt.parseToNode(\"よろしくお願いします。\")\n",
    "\n",
    "while res:\n",
    "    print (res.surface)\n",
    "    print (res.feature)\n",
    "    res = res.next"
   ]
  },
  {
   "cell_type": "code",
   "execution_count": 12,
   "metadata": {
    "collapsed": false
   },
   "outputs": [
    {
     "name": "stdout",
     "output_type": "stream",
     "text": [
      "['今日', '機械', '学習']\n"
     ]
    }
   ],
   "source": [
    "# 名詞だけ取得\n",
    "res = mt.parseToNode(\"今日は機械学習を楽しんでください！\")\n",
    "\n",
    "none = []\n",
    "while res:\n",
    "    infos = res.feature.split(\",\")\n",
    "    if infos[0] == \"名詞\":\n",
    "        none.append(res.surface)\n",
    "    res = res.next\n",
    "    \n",
    "print (none)"
   ]
  },
  {
   "cell_type": "code",
   "execution_count": 14,
   "metadata": {
    "collapsed": false
   },
   "outputs": [
    {
     "name": "stdout",
     "output_type": "stream",
     "text": [
      "分かち書き は 文章 を 形態素 単位 で 分割 する こと です 。 \n",
      "\n"
     ]
    }
   ],
   "source": [
    "# 分かち書きをする\n",
    "wmt = MeCab.Tagger(\"-Owakati\")\n",
    "print (wmt.parse(\"分かち書きは文章を形態素単位で分割することです。\"))"
   ]
  },
  {
   "cell_type": "code",
   "execution_count": 15,
   "metadata": {
    "collapsed": false
   },
   "outputs": [
    {
     "name": "stdout",
     "output_type": "stream",
     "text": [
      "コノブンショウノヨミヲシラベテミマショウ。\n",
      "\n"
     ]
    }
   ],
   "source": [
    "# 読みを出力する\n",
    "ymt = MeCab.Tagger(\"-Oyomi\")\n",
    "print (ymt.parse(\"この文章の読みを調べてみましょう。\"))"
   ]
  },
  {
   "cell_type": "code",
   "execution_count": 17,
   "metadata": {
    "collapsed": true
   },
   "outputs": [],
   "source": [
    "# python3のmecabにはバグがあり文字コードの闇に飲まれる可能性がある\n",
    "# UnicodeDecodeErrorが発生したら以下の記事の内容を試すこと\n",
    "# http://taka-say.hateblo.jp/entry/2015/06/24/183748"
   ]
  },
  {
   "cell_type": "code",
   "execution_count": null,
   "metadata": {
    "collapsed": true
   },
   "outputs": [],
   "source": []
  }
 ],
 "metadata": {
  "kernelspec": {
   "display_name": "Python 3",
   "language": "python",
   "name": "python3"
  },
  "language_info": {
   "codemirror_mode": {
    "name": "ipython",
    "version": 3
   },
   "file_extension": ".py",
   "mimetype": "text/x-python",
   "name": "python",
   "nbconvert_exporter": "python",
   "pygments_lexer": "ipython3",
   "version": "3.5.1"
  }
 },
 "nbformat": 4,
 "nbformat_minor": 0
}
