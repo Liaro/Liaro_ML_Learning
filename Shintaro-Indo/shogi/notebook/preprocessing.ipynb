{
 "cells": [
  {
   "cell_type": "markdown",
   "metadata": {},
   "source": [
    "# 前処理"
   ]
  },
  {
   "cell_type": "code",
   "execution_count": 1,
   "metadata": {},
   "outputs": [
    {
     "data": {
      "text/plain": [
       "'/Users/Shintaro/Desktop/Liaro/Liaro_ML_Learning/Shintaro-Indo/shogi/notebook'"
      ]
     },
     "execution_count": 1,
     "metadata": {},
     "output_type": "execute_result"
    }
   ],
   "source": []
  },
  {
   "cell_type": "code",
   "execution_count": null,
   "metadata": {},
   "outputs": [],
   "source": [
    "# load_data.ipynb にある関数 load_data() をモジュールとしてインポートするための記述\n",
    "import sys\n",
    "import notebookutil as nbu\n",
    "sys.meta_path.append(nbu.NotebookFinder())\n",
    "from load_data import load_data"
   ]
  },
  {
   "cell_type": "code",
   "execution_count": null,
   "metadata": {
    "collapsed": true
   },
   "outputs": [],
   "source": [
    "# load_data.ipynb にある関数 load_data() をモジュールとしてインポートするための記述\n",
    "import sys\n",
    "import notebookutil as nbu\n",
    "sys.meta_path.append(nbu.NotebookFinder())\n",
    "from load_data import load_data\n",
    "\n",
    "import numpy as np\n",
    "\n",
    "import cv2\n",
    "from PIL import Image\n",
    "import matplotlib.pyplot as plt\n",
    "# plt.style.use('dark_background') # jupyterの背景を黒くしている場合， 混同行列などの軸ラベルが見やすくなる．\n",
    "% matplotlib inline\n",
    "\n",
    "from sklearn.model_selection import train_test_split"
   ]
  },
  {
   "cell_type": "markdown",
   "metadata": {},
   "source": [
    "### 機械学習のためのOpenCV入門\n",
    "http://qiita.com/icoxfog417/items/53e61496ad980c41a08e#%E9%96%BE%E5%80%A4%E5%87%A6%E7%90%86  \n",
    "\n",
    "**基本的な切り出し手順**\n",
    "1. 前処理: 物体検出が行いやすいように、画像の前処理を行う\n",
    "    - 物体の検出を行うには， 輪郭がはっきりしていて， 連続していると都合が良い．\n",
    "    - 閾値処理やフィルター処理(ぼかし)が効果的な手法 * treshの値はペイントツールを使うのもあり．\n",
    "    - 画像処理を行う場合， 大抵の場合はグレースケール化を行う． \n",
    "        - カラー情報が必要になる事はほとんどないため．\n",
    "        - ただし， 最終的に機械学習で使用する際は， RGB情報が必要なことも多いため，\n",
    "        画像から切り出しを行う際はカラーの方から行わなければならない．\n",
    "        * opencvのimreadで読み込むと，RGBではなく，BGRになる．\n",
    "      \n",
    "2. 物体検出: 物体の検出を行い，画像から切り出す．\n",
    "3. 輪郭検出: 画像上の領域(輪郭)を認識することで、物体を検出する．\n",
    "4. 物体認識: OpenCVの学習済みモデルを利用して対象の物体を認識し，検出を行う．\n",
    "5. 機械学習の準備: 切り出した画像を用い，予測や学習を行うための準備を行う．"
   ]
  },
  {
   "cell_type": "markdown",
   "metadata": {},
   "source": [
    "## Thresholding(scikit - image)\n",
    "\n",
    "\n",
    "http://scikit-image.org/docs/dev/auto_examples/xx_applications/plot_thresholding.html  \n",
    "\n",
    "\n",
    "グレースケール画像からニ値画像を作る  \n",
    "1. Histogram-based:各ピクセルの値のヒストグラムを元に，何らかの過程をおいて二値化する(例. 二峰性など)\n",
    "2. Local：近くのピクセルのみを考慮する．計算量が多くなる．"
   ]
  },
  {
   "cell_type": "code",
   "execution_count": null,
   "metadata": {
    "collapsed": true
   },
   "outputs": [],
   "source": [
    "# サンプル\n",
    "img = data.page()\n",
    "fig, ax = try_all_threshold(img, figsize=(10, 8), verbose=False)\n",
    "plt.show()"
   ]
  },
  {
   "cell_type": "code",
   "execution_count": null,
   "metadata": {
    "collapsed": true
   },
   "outputs": [],
   "source": [
    "# 平均値を用いる場合 ← シンプルでナイーブ(単純，騙されやすい，素朴，原始的)な閾値\n",
    "from skimage.filters import threshold_mean\n",
    "\n",
    "image = data.camera()\n",
    "thresh = threshold_mean(image) # 閾値\n",
    "binary = image > thresh\n",
    "\n",
    "fig, axes = plt.subplots(ncols=2, figsize=(8, 3))\n",
    "ax = axes.ravel()\n",
    "\n",
    "ax[0].imshow(image, cmap=plt.cm.gray)\n",
    "ax[0].set_title('Original image')\n",
    "\n",
    "ax[1].imshow(binary, cmap=plt.cm.gray)\n",
    "ax[1].set_title('Result')\n",
    "\n",
    "for a in ax:\n",
    "    a.axis('off')\n",
    "\n",
    "plt.show()"
   ]
  },
  {
   "cell_type": "code",
   "execution_count": null,
   "metadata": {
    "collapsed": true
   },
   "outputs": [],
   "source": [
    "# Bimodal histgram\n",
    "from skimage.filters import threshold_minimum\n",
    "\n",
    "image = data.camera()\n",
    "\n",
    "thresh_min = threshold_minimum(image)\n",
    "binary_min = image > thresh_min\n",
    "\n",
    "fig, ax = plt.subplots(2, 2, figsize=(10, 10))\n",
    "\n",
    "ax[0, 0].imshow(image, cmap=plt.cm.gray)\n",
    "ax[0, 0].set_title('Original')\n",
    "\n",
    "ax[0, 1].hist(image.ravel(), bins=256)\n",
    "ax[0, 1].set_title('Histogram')\n",
    "\n",
    "ax[1, 0].imshow(binary_min, cmap=plt.cm.gray)\n",
    "ax[1, 0].set_title('Thresholded (min)')\n",
    "\n",
    "ax[1, 1].hist(image.ravel(), bins=256)\n",
    "ax[1, 1].axvline(thresh_min, color='r')\n",
    "\n",
    "for a in ax[:, 0]:\n",
    "    a.axis('off')\n",
    "plt.show()"
   ]
  },
  {
   "cell_type": "markdown",
   "metadata": {},
   "source": [
    "## データセットの準備\n",
    "- 駒の種類ごとに，train:test = 7:3 に分割\n",
    "- 並び順はランダム"
   ]
  },
  {
   "cell_type": "code",
   "execution_count": null,
   "metadata": {
    "collapsed": true
   },
   "outputs": [],
   "source": [
    "# データの読み込み\n",
    "koma = load_data() # 駒の種類．混同行列に利用．\n",
    "class_names = koma.target_names\n",
    "x = koma.data \n",
    "y = koma.target\n",
    "x_train, x_test, y_train, y_test = train_test_split(x, y, test_size=0.3, random_state=42)\n",
    "\n",
    "## Chainerでは実数のタイプはfloat32, 整数のタイプはint32に固定しておく必要がある．\n",
    "x_train = x_train.astype(np.float32) # (40681, 80, 64, 3)\n",
    "y_train = y_train.astype(np.int32) # (40681,)\n",
    "x_test = x_test.astype(np.float32)\n",
    "y_test = y_test.astype(np.int32)\n",
    "\n",
    "# 輝度を揃える\n",
    "x_train /= x_train.max()\n",
    "x_test /= x_test.max()\n",
    "\n",
    "# データ数、形状の確認\n",
    "print(\"x_train:\", x_train.shape)\n",
    "print(\"y_train:\", y_train.shape)\n",
    "print(\"x_test:\", x_test.shape)\n",
    "print(\"y_test:\", y_test.shape)"
   ]
  },
  {
   "cell_type": "code",
   "execution_count": null,
   "metadata": {
    "collapsed": true
   },
   "outputs": [],
   "source": [
    "# サンプルの表示\n",
    "plt.imshow(x_train[3])"
   ]
  },
  {
   "cell_type": "markdown",
   "metadata": {},
   "source": [
    "###  方針\n",
    "- まずは枠は許容して二値化して精度を求める\n",
    "- ヨッシーさんに相談"
   ]
  },
  {
   "cell_type": "markdown",
   "metadata": {},
   "source": [
    "###  知見\n",
    "- 背景の白くする処理と境界をハッキリさせる処理でわけたほうがいい\n",
    "- 矩形検出は8bitじゃないとダメではまった(chainerで処理できるようにdtype=np.float32としていたため)  \n",
    "    - そもそも目的なく矩形検出しようとしていたところが問題"
   ]
  },
  {
   "cell_type": "code",
   "execution_count": null,
   "metadata": {
    "collapsed": true
   },
   "outputs": [],
   "source": [
    "# コントラストを強くする．"
   ]
  },
  {
   "cell_type": "code",
   "execution_count": null,
   "metadata": {
    "collapsed": true,
    "scrolled": true
   },
   "outputs": [],
   "source": [
    "# サンプルの表示\n",
    "for i in range(10):\n",
    "    sample = x_train[i]\n",
    "    sample_gray = cv2.cvtColor(sample, cv2.COLOR_BGR2GRAY)# グレースケール化\n",
    "    plt.imshow(sample_gray, cmap=\"gray\")\n",
    "    plt.show()"
   ]
  },
  {
   "cell_type": "code",
   "execution_count": null,
   "metadata": {
    "collapsed": true
   },
   "outputs": [],
   "source": [
    "# ヒストグラムの確認\n",
    "# for i in range(10):\n",
    "i = 3\n",
    "sample = x_train[i]\n",
    "sample_gray = cv2.cvtColor(sample, cv2.COLOR_BGR2GRAY)# グレースケール化\n",
    "# plt.imshow(sample_gray, cmap=\"gray\")\n",
    "plt.hist(sample_gray.ravel(), bins=32) # ravel：一次元化\n",
    "plt.show()"
   ]
  },
  {
   "cell_type": "code",
   "execution_count": null,
   "metadata": {
    "collapsed": true
   },
   "outputs": [],
   "source": [
    "# Bimodal histgram\n",
    "from skimage.filters import threshold_minimum\n",
    "\n",
    "image = x_train[0]\n",
    "image = cv2.cvtColor(image, cv2.COLOR_BGR2GRAY)# グレースケール化\n",
    "\n",
    "thresh_min = threshold_minimum(image)\n",
    "binary_min = image > thresh_min\n",
    "\n",
    "fig, ax = plt.subplots(2, 2, figsize=(10, 10))\n",
    "\n",
    "ax[0, 0].imshow(image, cmap=plt.cm.gray)\n",
    "ax[0, 0].set_title('Original')\n",
    "\n",
    "ax[0, 1].hist(image.ravel(), bins=256)\n",
    "ax[0, 1].set_title('Histogram')\n",
    "\n",
    "ax[1, 0].imshow(binary_min, cmap=plt.cm.gray)\n",
    "ax[1, 0].set_title('Thresholded (min)')\n",
    "\n",
    "ax[1, 1].hist(image.ravel(), bins=256)\n",
    "ax[1, 1].axvline(thresh_min, color='r')\n",
    "\n",
    "for a in ax[:, 0]:\n",
    "    a.axis('off')\n",
    "plt.show()"
   ]
  },
  {
   "cell_type": "code",
   "execution_count": null,
   "metadata": {
    "collapsed": true
   },
   "outputs": [],
   "source": [
    "gray_images = [cv2.cvtColor(img, cv2.COLOR_BGR2GRAY) for img in x_train]"
   ]
  },
  {
   "cell_type": "code",
   "execution_count": null,
   "metadata": {
    "collapsed": true,
    "scrolled": true
   },
   "outputs": [],
   "source": [
    "binary_images = []\n",
    "for img in gray_images:\n",
    "    try:\n",
    "        img_threshold = cv2.threshold(img, threshold_minimum(img), 255, cv2.THRESH_BINARY)[1]\n",
    "    except:\n",
    "        img_threshold = img\n",
    "    binary_images.append(img_threshold)\n",
    "binary_images = np.array(binary_images)\n",
    "len(binary_images)"
   ]
  }
 ],
 "metadata": {
  "kernelspec": {
   "display_name": "Python 3",
   "language": "python",
   "name": "python3"
  },
  "language_info": {
   "codemirror_mode": {
    "name": "ipython",
    "version": 3
   },
   "file_extension": ".py",
   "mimetype": "text/x-python",
   "name": "python",
   "nbconvert_exporter": "python",
   "pygments_lexer": "ipython3",
   "version": "3.5.4"
  }
 },
 "nbformat": 4,
 "nbformat_minor": 2
}
