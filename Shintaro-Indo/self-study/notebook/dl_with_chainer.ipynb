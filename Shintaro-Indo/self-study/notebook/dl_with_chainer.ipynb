{
 "cells": [
  {
   "cell_type": "markdown",
   "metadata": {},
   "source": [
    "# Chainerによる実践深層学習"
   ]
  },
  {
   "cell_type": "code",
   "execution_count": 1,
   "metadata": {
    "collapsed": true
   },
   "outputs": [],
   "source": [
    "import chainer\n",
    "import numpy as np\n",
    "import copy\n",
    "import pickle"
   ]
  },
  {
   "cell_type": "markdown",
   "metadata": {},
   "source": [
    "### Numpyで最低限知っておくべきこと．"
   ]
  },
  {
   "cell_type": "code",
   "execution_count": 2,
   "metadata": {},
   "outputs": [
    {
     "name": "stdout",
     "output_type": "stream",
     "text": [
      "10 6\n",
      "60\n"
     ]
    }
   ],
   "source": [
    "# 配列の形を知りたい時はshape， データ数を知りたい時はsize\n",
    "a = np.arange(60).reshape(10, 6)\n",
    "nrow, ncol = a.shape\n",
    "print(nrow, ncol) \n",
    "print(a.size)"
   ]
  },
  {
   "cell_type": "code",
   "execution_count": 3,
   "metadata": {},
   "outputs": [
    {
     "name": "stdout",
     "output_type": "stream",
     "text": [
      "[ -2.31584178e+077  -4.32912595e-311   2.29425253e-314   2.29429626e-314\n",
      "   2.29430218e-314   2.29423600e-314   2.23047865e-314   0.00000000e+000\n",
      "   2.21638048e-314   1.27319747e-310]\n"
     ]
    }
   ],
   "source": [
    "# 0や1以外での初期化\n",
    "print(np.empty(10))"
   ]
  },
  {
   "cell_type": "code",
   "execution_count": 4,
   "metadata": {},
   "outputs": [
    {
     "name": "stdout",
     "output_type": "stream",
     "text": [
      "[ 0.95218803  0.36405546  0.44882674]\n",
      "[-0.02471806  1.06972271  0.6789234 ]\n"
     ]
    }
   ],
   "source": [
    "# 乱数の生成． 通常は一様分布uniformと正規分布normalを知っていれば問題ない．\n",
    "print(np.random.uniform(0, 1, 3)) # 区間(0,1)の一様分布に従う乱数を3つ生成\n",
    "print(np.random.normal(1.5, 2.0, 3)) # 平均1.5, 標準偏差2,0の正規分布に従う乱数を3個生成"
   ]
  },
  {
   "cell_type": "code",
   "execution_count": 17,
   "metadata": {},
   "outputs": [
    {
     "name": "stdout",
     "output_type": "stream",
     "text": [
      "[3 2 0 5 4 1]\n",
      "[0 1 2 3 4 5]\n",
      "\n",
      "None\n",
      "[1 2 5 4 3 0]\n"
     ]
    }
   ],
   "source": [
    "# 要素をシャッフルした配列を生成． shuffleは配列を破壊的に並び替えるので， 通常はpermutatonを使うのが安全\n",
    "x = np.arange(6)\n",
    "\n",
    "# permutationは値のコピー\n",
    "y = np.random.permutation(x)\n",
    "print(y)\n",
    "print(x, end=\"\\n\\n\")\n",
    "\n",
    "# shuffleはin-place(破壊的、ポインタのコピー)\n",
    "z = np.random.shuffle(x)\n",
    "print(z)\n",
    "print(x)"
   ]
  },
  {
   "cell_type": "code",
   "execution_count": 18,
   "metadata": {
    "scrolled": false
   },
   "outputs": [
    {
     "data": {
      "text/plain": [
       "array([[ 1.,  0.,  0.,  0.,  0.],\n",
       "       [ 0.,  1.,  0.,  0.,  0.],\n",
       "       [ 0.,  0.,  1.,  0.,  0.],\n",
       "       [ 0.,  0.,  0.,  1.,  0.],\n",
       "       [ 0.,  0.,  0.,  0.,  1.]])"
      ]
     },
     "execution_count": 18,
     "metadata": {},
     "output_type": "execute_result"
    }
   ],
   "source": [
    "# 単位行列の生成\n",
    "np.identity(5)"
   ]
  },
  {
   "cell_type": "code",
   "execution_count": 19,
   "metadata": {},
   "outputs": [
    {
     "name": "stdout",
     "output_type": "stream",
     "text": [
      "[[ 0  1  2  6  7  8]\n",
      " [ 3  4  5  9 10 11]]\n",
      "\n",
      "[[ 0  1  2]\n",
      " [ 3  4  5]\n",
      " [ 6  7  8]\n",
      " [ 9 10 11]]\n"
     ]
    }
   ],
   "source": [
    "#  配列の結合\n",
    "a = np.arange(6).reshape(2, 3)\n",
    "b = np.arange(6, 12).reshape(2, 3)\n",
    "print(np.hstack([a,b]), end=\"\\n\\n\") # horizontal\n",
    "print(np.vstack([a,b])) # virtical"
   ]
  },
  {
   "cell_type": "code",
   "execution_count": 20,
   "metadata": {},
   "outputs": [
    {
     "name": "stdout",
     "output_type": "stream",
     "text": [
      "[[ 0  1  2  3  4  5]\n",
      " [ 6  7  8  9 10 11]\n",
      " [12 13 14 15 16 17]\n",
      " [18 19 20 21 22 23]\n",
      " [24 25 26 27 28 29]]\n",
      "\n",
      "[ 2 14 26]\n"
     ]
    }
   ],
   "source": [
    "# スライス\n",
    "a = np.arange(30).reshape(5, 6)\n",
    "print(a, end=\"\\n\\n\")\n",
    "print(a[[0, 2,4], 2])"
   ]
  },
  {
   "cell_type": "code",
   "execution_count": 21,
   "metadata": {},
   "outputs": [
    {
     "name": "stdout",
     "output_type": "stream",
     "text": [
      "[[-1  1 -1  3 -1  5]\n",
      " [-1  7 -1  9 -1 11]\n",
      " [-1 13 -1 15 -1 17]\n",
      " [-1 19 -1 21 -1 23]\n",
      " [-1 25 -1 27 -1 29]]\n"
     ]
    }
   ],
   "source": [
    "# 置換\n",
    "a = np.arange(30).reshape(5, 6)\n",
    "a[a%2 == 0] = -1\n",
    "print(a)"
   ]
  },
  {
   "cell_type": "markdown",
   "metadata": {},
   "source": [
    "### 値渡しと参照渡し"
   ]
  },
  {
   "cell_type": "markdown",
   "metadata": {},
   "source": [
    "値渡し；変数の値だけをコピーする渡し方．「実体のコピー」  \n",
    "参照渡し：変数を共有するような渡し方．「ポインタのコピー」  \n",
    "\n",
    "    \n",
    "Pythonでは，変数や関数に値を渡す場合すべて参照渡し．Immutable(変更不可)な型のみ，値が変更されたときに新たなオブジェクトを生成する(元のオブジェクトは変更されない)．\n",
    "Mutableな型で値渡しをしたい場合はcopy()を利用．\n",
    "\n",
    "- 変更不可（Immutable）な型  \n",
    "    - int, float, str, tuple, bytes, frozenset 等  \n",
    "- 変更可能（Mutable）な型  \n",
    "    - list, dict, set, bytearray 等  "
   ]
  },
  {
   "cell_type": "code",
   "execution_count": 28,
   "metadata": {},
   "outputs": [
    {
     "name": "stdout",
     "output_type": "stream",
     "text": [
      "b = 0, id(b) = 4482562992\n",
      "a = 0, id(a) = 4482562992\n",
      "a = 1, id(a) = 4482563024\n",
      "b = 0, id(b) = 4482562992\n"
     ]
    }
   ],
   "source": [
    "#  値渡しと参照渡し\n",
    "def foo(a):\n",
    "    print(\"a = %d, id(a) = %d\"%(a, id(a))) # bと同じ\n",
    "    a += 1\n",
    "    print(\"a = %d, id(a) = %d\"%(a, id(a))) # 新たな領域が確保される\n",
    "\n",
    "b = 0\n",
    "print(\"b = %d, id(b) = %d\"%(b, id(b))) # bの領域が確保される\n",
    "foo(b)\n",
    "print(\"b = %d, id(b) = %d\"%(b, id(b))) # 値は変更されていない"
   ]
  },
  {
   "cell_type": "code",
   "execution_count": 31,
   "metadata": {},
   "outputs": [
    {
     "name": "stdout",
     "output_type": "stream",
     "text": [
      "[[0 1 2]\n",
      " [3 4 5]]\n",
      "\n",
      "[[0 0 0]\n",
      " [3 4 5]]\n",
      "\n",
      "[[0 0 0]\n",
      " [3 4 5]]\n"
     ]
    }
   ],
   "source": [
    "# コピー\n",
    "a = np.arange(6).reshape(2,3)\n",
    "print(a, end=\"\\n\\n\")\n",
    "\n",
    "b = a # ポインタのコピー\n",
    "b[0] = 0\n",
    "print(a, end=\"\\n\\n\") # 元の配列も変更される\n",
    "\n",
    "c = a.copy() # 実体のコピー\n",
    "c[0] = 1\n",
    "print(a) # 元の配列は変更されない．"
   ]
  },
  {
   "cell_type": "code",
   "execution_count": 32,
   "metadata": {},
   "outputs": [
    {
     "name": "stdout",
     "output_type": "stream",
     "text": [
      "38\n",
      "\n",
      "[[10 13]\n",
      " [28 40]]\n"
     ]
    }
   ],
   "source": [
    "# 行列の積(配列が1次元(ベクトル)の場合は内積)\n",
    "a = np.arange(4)\n",
    "b = np.arange(4, 8)\n",
    "print(a.dot(b), end=\"\\n\\n\") # 内積\n",
    "\n",
    "a = np.arange(6).reshape(2,3)\n",
    "b = np.arange(6).reshape(3,2)\n",
    "print(a.dot(b))"
   ]
  },
  {
   "cell_type": "code",
   "execution_count": 33,
   "metadata": {},
   "outputs": [
    {
     "name": "stdout",
     "output_type": "stream",
     "text": [
      "[[ 0 -2  0]\n",
      " [ 6  7  0]\n",
      " [ 3  2  3]]\n",
      "\n",
      "36.0\n",
      "\n",
      "[[ 0.58333333 -0.5        -0.25      ]\n",
      " [ 0.16666667  0.         -0.16666667]\n",
      " [ 0.          0.          0.33333333]]\n",
      "\n",
      "[ 3.  4.  3.]\n",
      "\n",
      "[[-0.89442719 -0.83205029  0.43643578]\n",
      " [-0.4472136  -0.5547002  -0.21821789]\n",
      " [ 0.          0.          0.87287156]]\n"
     ]
    }
   ],
   "source": [
    " # 行列の演算は逆行列， 転置行列， 行列式，　固有値が重要．\n",
    "a = np.array([[0, 6, 3], [-2, 7, 2], [0, 0, 3]])\n",
    "print(a.T, end=\"\\n\\n\") # 転置\n",
    "print(np.linalg.det(a), end=\"\\n\\n\") # 行列式\n",
    "print(np.linalg.inv(a), end=\"\\n\\n\") # 逆行列\n",
    "la, v = np.linalg.eig(a)\n",
    "print(la, end=\"\\n\\n\") # 固有値\n",
    "print(v) # 固有ベクトル"
   ]
  },
  {
   "cell_type": "code",
   "execution_count": 35,
   "metadata": {},
   "outputs": [
    {
     "name": "stdout",
     "output_type": "stream",
     "text": [
      "[[ 0.90841688 -1.1615594   1.00485053  0.66247511  0.08546335]\n",
      " [ 1.80188667 -0.11353778  1.20319182  0.60443705 -0.60773928]]\n",
      "\n",
      "[[ 0.90841688 -1.1615594   1.00485053  0.66247511  0.08546335]\n",
      " [ 1.80188667 -0.11353778  1.20319182  0.60443705 -0.60773928]]\n"
     ]
    }
   ],
   "source": [
    "# pickleを利用した配列の保存と呼び出し． pickleは配列に鍵らずどのようなオブジェクトでも保存とその読み出しが汎用的にできる．\n",
    "a = np.random.randn(10).reshape(2, 5)\n",
    "print(a, end=\"\\n\\n\")\n",
    "\n",
    "# 書き出し\n",
    "f = open('a.pickle', 'wb') # a.pickleに書き出される． write byte． wだけだとエラー．\n",
    "pickle.dump(a, f) # dump：放出する．\n",
    "f.close()\n",
    "\n",
    "# 読み込み\n",
    "f = open(\"a.pickle\", \"rb\") # read byte\n",
    "a = pickle.load(f)\n",
    "f.close()\n",
    "print(a)"
   ]
  },
  {
   "cell_type": "code",
   "execution_count": 36,
   "metadata": {},
   "outputs": [
    {
     "name": "stdout",
     "output_type": "stream",
     "text": [
      "[1 2 3] \t [ 1.  2.  3.]\n"
     ]
    }
   ],
   "source": [
    "# Numpyの配列ようにはsavaとload，あるいはsavetextとloadtextがある．\n",
    "a = np.array([1,2,3])\n",
    "\n",
    "# 保存\n",
    "np.save(\"a.npy\", a) # バイナリで保存\n",
    "np.savetxt(\"a.data\", a) # テキストで保存\n",
    "\n",
    "# 読み出し\n",
    "b1 = np.load(\"a.npy\")\n",
    "b2 = np.loadtxt(\"a.data\")\n",
    "\n",
    "print(b1,\"\\t\", b2)"
   ]
  },
  {
   "cell_type": "markdown",
   "metadata": {},
   "source": [
    "## Neural Networkのおさらい  \n",
    "- 基本的にはm次元のベクトル**x**をn次元のベクトル**y**に写す関数fを推定する学習方法．パラメータ**θ**を推定する．\n",
    "- 関数を推定するため回帰の問題が対象だが，softmaxを利用することで分類問題へも応用可能．\n",
    "- オンライン学習：データごとにパラメータを更新．データセットが大きい時に有効\n",
    "- バッチ学習：データ全体を使ってパラメータを更新．データセットが小さいときに有効．\n",
    "- ミニバッチ学習：オンライン学習とバッチ学習の中間．勾配が安定する効果があると言われている．"
   ]
  },
  {
   "cell_type": "markdown",
   "metadata": {},
   "source": [
    "## Chainerの使い方\n",
    "- Chainerの仕組みは合成関数を計算グラフで表現すると理解しやすい\n",
    "- 計算グラフ：変数を表す○ノード，関数を表す⬜︎ノード，それらを向きのあるエッジで結んだグラフ\n",
    "- Chainerではまず計算グラフで順方向に計算を行い，各ノードにその結果などの情報を保持させておき，次に逆向きにたどることで微分値を得るので，一度は順方向に計算しないといけないことに注意．\n",
    "- **逆向きにたどる際に複数のパスがある場合は，パスごとの和になる**\n",
    "$$ \\frac{∂z}{∂x} = \\frac{∂z}{∂y1} \\frac{∂y1}{∂x} + \\frac{∂z}{∂y2} \\frac{∂y2}{∂x}  $$\n"
   ]
  },
  {
   "cell_type": "code",
   "execution_count": 39,
   "metadata": {
    "collapsed": true
   },
   "outputs": [],
   "source": [
    "# Chainerでオブジェクトを利用するにはモジュールのインポートが必要． \n",
    "import numpy as np\n",
    "import chainer\n",
    "from chainer import cuda, Function, gradient_check, Variable, optimizers, serializers, utils # serializer：並直列変換回路\n",
    "from chainer import Link, Chain, ChainList\n",
    "import chainer.functions as F  # s!!\n",
    "import chainer.links as L"
   ]
  },
  {
   "cell_type": "code",
   "execution_count": 37,
   "metadata": {},
   "outputs": [
    {
     "name": "stdout",
     "output_type": "stream",
     "text": [
      "z: [ 42.]\n",
      "x1_grad:  [-8.]\n",
      "x2_grad:  [ 46.]\n",
      "x3_grad:  [ 20.]\n"
     ]
    }
   ],
   "source": [
    "# Variable：Chainerでは実数のタイプはnp.float32, 整数のタイプはnp.int32に固定しておく必要がある．生成時に指定してもいいが，型を変換するastypeを使うほうが応用が効く\n",
    "x1 = Variable(np.array([1],  dtype=np.float32)) # dtypeの位置に注意．\n",
    "x2 = Variable(np.array([2]).astype(np.float32)) # astypeの位置に注意\n",
    "x3 = Variable(np.array([3]).astype(np.float32)) # astypeの位置に注意\n",
    "\n",
    "z = (x1 - 2*x2 - 1)**2 + (x2 * x3 -1)**2 + 1\n",
    "print(\"z:\", z.data) # data属性で変数の中身を参照できる．\n",
    "\n",
    "# 逆向きの計算を行うことで微分値を得られる．\n",
    "z.backward()\n",
    "print(\"x1_grad: \", x1.grad)\n",
    "print(\"x2_grad: \", x2.grad)\n",
    "print(\"x3_grad: \", x3.grad)"
   ]
  },
  {
   "cell_type": "code",
   "execution_count": 56,
   "metadata": {},
   "outputs": [
    {
     "name": "stdout",
     "output_type": "stream",
     "text": [
      "sigmoid(x):  [ 0.37754068]\n",
      "cos(x):  [ 0.87758255]\n",
      "x_grad:  [ 0.47942555]\n",
      "-sin(x):  [ 0.47942555]\n"
     ]
    }
   ],
   "source": [
    "# functions：variableを変数としてもつ関数はfunctionsパッケージの中で提供されている．\n",
    "x = Variable(np.array([-0.5], dtype=np.float32))\n",
    "print(\"sigmoid(x): \", F.sigmoid(x).data)\n",
    "\n",
    "z = F.cos(x)\n",
    "print(\"cos(x): \", z.data)\n",
    "\n",
    "# 微分\n",
    "z.backward()\n",
    "print(\"x_grad: \", x.grad)\n",
    "print(\"-sin(x): \", -1.0 * F.sin(x).data)\n",
    "# 変数が多次元である場合は，関数の傾きの次元をあらかじめ教えておく必要がある"
   ]
  },
  {
   "cell_type": "code",
   "execution_count": 73,
   "metadata": {
    "scrolled": true
   },
   "outputs": [
    {
     "name": "stdout",
     "output_type": "stream",
     "text": [
      "W \n",
      " [[ 0.21137963 -0.5108822   0.71134382]\n",
      " [-0.10070859 -0.06428391  0.16123502]\n",
      " [ 0.08770657  0.52325684 -1.49643755]\n",
      " [ 0.68550384 -0.30790746  0.26451978]]\n",
      "\n",
      "b \n",
      " [ 0.  0.  0.  0.]\n",
      "\n",
      "y \n",
      " [[ 0.91180545  0.25818613 -2.46961832  0.2211321 ]\n",
      " [ 2.14732909  0.24691373 -5.12604046  2.14748049]]\n",
      "\n",
      "y_ \n",
      "  [[ 0.91180545  0.25818613 -2.46961832  0.2211321 ]\n",
      " [ 2.14732909  0.24691373 -5.12604046  2.14748049]]\n"
     ]
    }
   ],
   "source": [
    "# links：パラメータがある関数． Chainerで行えることは， links内におけるパラメータを推定すること．　自分が考えたモデル(合成関数)がlinks内の関すやfunctions内の関数を単純に組み合わせて表現できればほぼ完成．\n",
    "# *functions内の関数にはパラメータがない\n",
    "h = L.Linear(3, 4) # 線形作用素． y = Wx + b． 引数 = (入力層の次元, 出力層の次元)． linksの代表的な関数． パラメータはW(初期値:適当な数)とb(初期値:0)\n",
    "print(\"W \\n\", h.W.data, end=\"\\n\\n\") \n",
    "print(\"b \\n\", h.b.data, end=\"\\n\\n\")\n",
    "\n",
    "# 入力はバッチ(データの集合)で与えなければならない\n",
    "x = Variable(np.array(np.arange(6)).astype(np.float32).reshape(2, 3))\n",
    "y = h(x)\n",
    "print(\"y \\n\", y.data, end=\"\\n\\n\")\n",
    "\n",
    "# 確認\n",
    "w = h.W.data\n",
    "x0 = x.data\n",
    "print(\"y_ \\n \", x0.dot(w.T) + h.b.data)"
   ]
  },
  {
   "cell_type": "code",
   "execution_count": null,
   "metadata": {
    "collapsed": true
   },
   "outputs": [],
   "source": [
    "# Chainクラス：モデルを定義．自身の定義するモデルは， Chainクラスを継承したクラス(例：MyChain)を定義することで行う．\n",
    "class MyChain(Chain):\n",
    "    # 合成関数内のlinks内の関数を列挙． 順番は無関係で， 全て使う必要もない．\n",
    "    def __init__(self):\n",
    "        super(MyChain, self).__init__(\n",
    "            l1 = L.Linear(4,3), \n",
    "            l2 = L.Linear(3,3),\n",
    "        )\n",
    "        \n",
    "    # 損失関数． __call__の部分に順方向の計算を書くほうがスマートだが， 多少変でも，「損失関数を書く」と決めておいたほうがプログラムは簡単になる．\n",
    "    def __call__(self, x, y):\n",
    "        fv = self.fwd(x, y)\n",
    "        loss = F.mean_squared_error(fv, y)\n",
    "        return loss\n",
    "    \n",
    "    # 順方向の計算\n",
    "    def fwd(x, y):\n",
    "        return F.sigmoid(self.l1(x))\n",
    "        \n",
    "# 最適化のための初期設定\n",
    "model = MyChain() # モデルを生成\n",
    "optimizer = optimizer.SGD()# 最適化のアルゴリズムの選択． Adamは比較的高速に良い値を出すため， 通常はAdamを使う．\n",
    "optimizer.setup(model) # アルゴリズムにモデルをセット\n",
    "\n",
    "# 1つの訓練データのバッチ(x,y)を与えると， パラメータが１回更新される\n",
    "model.zerografs() # 勾配の初期化\n",
    "loss = model(x,y) # 順方向に計算して誤差を算出\n",
    "loss.backward() # 逆方向の計算，勾配の計算\n",
    "optimizer.update() # パラメータを更新 "
   ]
  },
  {
   "cell_type": "markdown",
   "metadata": {},
   "source": [
    "## Chainerの利用例　\n",
    "\n",
    "\n",
    "【Chainerのプログラムの雛形】 *下の例の方がサンプルコードとして使える．  \n",
    "\n",
    "    # Step1. データの準備．ここが面倒な場合が多い  \n",
    "\n",
    "    # Step2. モデルを記述． __init__ と __call__ の部分は必須．   \n",
    "    class MyModel(Chain): \n",
    "        def __init__(self):\n",
    "            super(MyModel, self).__init__(\n",
    "                # パラメータを含む関数(link)の宣言．順番は無関係で， 全て使う必要もない．カンマを忘れないように．\n",
    "            )\n",
    "        \n",
    "        def __call__(self, x, y):\n",
    "            # 損失関数． 順方向の計算は別のメソッドfwd(x)に分けると見通しがよくなる．\n",
    "\n",
    "        def fwd(self, x):\n",
    "            # 順伝播\n",
    "\n",
    "    # Step3. モデルと最適化アルゴリズムの設定． ほぼお約束の3行． とりあえずAdamでいい  \n",
    "    model = MyModel() # モデルの生成\n",
    "    optimizer = optimizers.Adam() # 最適化アルゴリズムの選択\n",
    "    optimizer.setup(model) # アルゴリズムにモデルをセット\n",
    "\n",
    "    # Step4. 学習． かなり時間がかかる． ほぼお約束の4行．  \n",
    "    for epoch in range(1000): # 1000：繰り返し回数．\n",
    "        # データの加工\n",
    "        x = Variable(xtrain.astype(np.float32))\n",
    "        y = Variable(ytrain.astype(np.float32))\n",
    "        model.zerograds() # 勾配初期化\n",
    "        loss = model(x, y) # 誤差計算\n",
    "        loss.backward() # 勾配計算\n",
    "        optimizer.update() # パラメータ更新\n",
    "\n",
    "    # Step.5 結果の出力"
   ]
  },
  {
   "cell_type": "code",
   "execution_count": 223,
   "metadata": {
    "scrolled": true
   },
   "outputs": [
    {
     "name": "stdout",
     "output_type": "stream",
     "text": [
      "[0 0 0 0 0 0 0 0 0 0 0 0 0 0 0 0 0 0 0 0 0 0 0 0 0 0 0 0 0 0 0 0 0 0 0 0 0\n",
      " 0 0 0 0 0 0 0 0 0 0 0 0 0 1 1 1 1 1 1 1 1 1 1 1 1 1 1 1 1 1 1 1 1 1 1 1 1\n",
      " 1 1 1 1 1 1 1 1 1 1 1 1 1 1 1 1 1 1 1 1 1 1 1 1 1 1 2 2 2 2 2 2 2 2 2 2 2\n",
      " 2 2 2 2 2 2 2 2 2 2 2 2 2 2 2 2 2 2 2 2 2 2 2 2 2 2 2 2 2 2 2 2 2 2 2 2 2\n",
      " 2 2]\n"
     ]
    }
   ],
   "source": [
    "# Iris：アヤメの3クラス分類問題\n",
    "# データの読み込み\n",
    "from sklearn import datasets # 機械学習のプログラムを作る際はscikit-learnをインストールしておくと色々便利． \n",
    "iris = datasets.load_iris()\n",
    "X = iris.data.astype(np.float32) # (150, 4)\n",
    "Y = iris.target.astype(np.int32) # (150, )\n",
    "N = Y.size # 150\n",
    "\n",
    "# one-hot表現\n",
    "Y2 = np.zeros([N, 3])\n",
    "for i in range(N):\n",
    "    Y2[i, Y[i]] = 1.0\n",
    "\n",
    "# 訓練データとテストデータに分割\n",
    "index = np.arange(N)\n",
    "xtrain = X[index[index%2 != 0], :] # 奇数番目を訓練データに\n",
    "ytrain = Y2[index[index%2 != 0], :]\n",
    "xtest = X[index[index%2 == 0], :] # 偶数番目をテストデータに\n",
    "yans = Y[index[index%2 == 0]]\n",
    "\n",
    "# データの確認(偏ってる)\n",
    "print(Y)"
   ]
  },
  {
   "cell_type": "markdown",
   "metadata": {},
   "source": [
    "### Sample\n"
   ]
  },
  {
   "cell_type": "code",
   "execution_count": 226,
   "metadata": {},
   "outputs": [
    {
     "name": "stdout",
     "output_type": "stream",
     "text": [
      "69  /  75  =  0.92\n"
     ]
    }
   ],
   "source": [
    "# Step1. データの準備．ここが面倒な場合が多い  \n",
    "\n",
    "# Step2. モデルを記述． __init__ と __call__ の部分は必須．   \n",
    "class IrisChain(Chain): \n",
    "    def __init__(self):\n",
    "        # パラメータを含む関数(link)の宣言．順番は無関係で， 全て使う必要もない．カンマを忘れないように．\n",
    "        super(IrisChain, self).__init__(\n",
    "            l1 = L.Linear(4, 6), \n",
    "            l2 = L.Linear(6, 3), \n",
    "        )\n",
    "\n",
    "    # 損失関数． 順方向の計算は別のメソッドfwd(x)に分けると見通しがよくなる．\n",
    "    def __call__(self, x, y):\n",
    "        return F.mean_squared_error(self.fwd(x), y) # softmax_cross_entropyを使用する場合，教師ラベルは整数\n",
    "\n",
    "    # 順伝播\n",
    "    def fwd(self, x):\n",
    "        h1 = F.sigmoid(self.l1(x))\n",
    "        h2 = self.l2(h1) # 出力層には活性化関数を適応していない\n",
    "        return h2\n",
    "\n",
    "# Step3. モデルと最適化アルゴリズムの設定． ほぼお約束の3行． とりあえずAdamでいい  \n",
    "model = IrisChain() # モデルの生成\n",
    "optimizer = optimizers.Adam() # 最適化アルゴリズムの選択\n",
    "optimizer.setup(model) # アルゴリズムにモデルをセット\n",
    "\n",
    "# Step4. 学習． かなり時間がかかる． ほぼお約束の4行．  \n",
    "for epoch in range(1000): # 1000：繰り返し回数．\n",
    "    # データの加工\n",
    "    ##  バッチ処理\n",
    "    x = Variable(xtrain.astype(np.float32)) \n",
    "    y = Variable(ytrain.astype(np.float32))\n",
    "    \n",
    "    ## ミニバッチ\n",
    "#     n = 75 # データのサイズ\n",
    "#     bs = 24 # バッチサイズ\n",
    "#     for j in range(5000): # データ全体の学習回数\n",
    "#         accum_loss = None\n",
    "#         sffindex = np.random.permutation(n)\n",
    "#         for i in range(0, n, bs):\n",
    "#             x = Variable(xtrain[sffindex[i:(i+bs) if (i+bs) < n else n]].astype(np.float32))\n",
    "#             y = Variable(ytrain[sffindex[i:(i+bs) if (i+bs) < n else n]].astype(np.float32))\n",
    "    \n",
    "    model.zerograds() # 勾配初期化\n",
    "    loss = model(x, y) # 誤差計算\n",
    "    loss.backward() # 勾配計算\n",
    "    optimizer.update() # パラメータ更新\n",
    "\n",
    "# Step5. 結果の出力\n",
    "xt = Variable(xtest) # volatile = \"on\"：テストでは計算グラフを使って勾配を求める必要がないため\n",
    "yt = model.fwd(xt)\n",
    "ans = yt.data\n",
    "nrow, ncol = ans.shape\n",
    "ok = 0\n",
    "for i in range(nrow):\n",
    "    _cls = np.argmax(ans[i, :])\n",
    "    if _cls == yans[i]:\n",
    "        ok += 1\n",
    "\n",
    "print(ok, \" / \", nrow, \" = \", (ok * 1.0) / nrow)"
   ]
  }
 ],
 "metadata": {
  "kernelspec": {
   "display_name": "Python 3",
   "language": "python",
   "name": "python3"
  },
  "language_info": {
   "codemirror_mode": {
    "name": "ipython",
    "version": 3
   },
   "file_extension": ".py",
   "mimetype": "text/x-python",
   "name": "python",
   "nbconvert_exporter": "python",
   "pygments_lexer": "ipython3",
   "version": "3.6.1"
  }
 },
 "nbformat": 4,
 "nbformat_minor": 2
}
