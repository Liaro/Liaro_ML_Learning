{
 "cells": [
  {
   "cell_type": "markdown",
   "metadata": {},
   "source": [
    "# ChainerによるMNIST(MLP、CNN)"
   ]
  },
  {
   "cell_type": "markdown",
   "metadata": {},
   "source": [
    "## MLP"
   ]
  },
  {
   "cell_type": "code",
   "execution_count": 1,
   "metadata": {},
   "outputs": [
    {
     "name": "stderr",
     "output_type": "stream",
     "text": [
      "/Users/Shintaro/.pyenv/versions/miniconda3-4.3.11/envs/Liaro/lib/python3.5/site-packages/sklearn/cross_validation.py:41: DeprecationWarning: This module was deprecated in version 0.18 in favor of the model_selection module into which all the refactored classes and functions are moved. Also note that the interface of the new CV iterators are different from that of this module. This module will be removed in 0.20.\n",
      "  \"This module will be removed in 0.20.\", DeprecationWarning)\n"
     ]
    }
   ],
   "source": [
    "%reload_ext autoreload\n",
    "%autoreload 2\n",
    "%matplotlib inline\n",
    "\n",
    "import time\n",
    "from tqdm import tqdm\n",
    "import numpy as np\n",
    "import matplotlib.pyplot as plt\n",
    "\n",
    "from sklearn.datasets import fetch_mldata\n",
    "from sklearn.cross_validation import train_test_split\n",
    "from sklearn.metrics import confusion_matrix\n",
    "\n",
    "import chainer\n",
    "import chainer.functions as F\n",
    "import chainer.links as L\n",
    "from chainer import optimizers\n",
    "#from chainer import serializers\n",
    "# import cPickle as pickle # hdf5のインストールがめんどいからpickleでシリアライズ"
   ]
  },
  {
   "cell_type": "code",
   "execution_count": 2,
   "metadata": {},
   "outputs": [
    {
     "data": {
      "image/png": "[encoded data removed]",
      "text/plain": [
       "<matplotlib.figure.Figure at 0x10dd5fbe0>"
      ]
     },
     "metadata": {},
     "output_type": "display_data"
    }
   ],
   "source": [
    "# mnistをDL\n",
    "mnist = fetch_mldata(\"MNIST original\") #, data_home=\"./data\")\n",
    "\n",
    "# データをロード\n",
    "x = mnist.data # (700000, 784) => 28x28(784)の画像が70000枚\n",
    "y = mnist.target # (70000, ) one-hotではない\n",
    "x = x.astype(np.float32)\n",
    "y = y.astype(np.int32)\n",
    "\n",
    "# 内容を確認\n",
    "plt.imshow(x[0].reshape((28,28)), cmap=plt.cm.gray) # (28, 28)に変換してグレースケールで表示\n",
    "plt.show()"
   ]
  },
  {
   "cell_type": "code",
   "execution_count": 3,
   "metadata": {},
   "outputs": [
    {
     "name": "stdout",
     "output_type": "stream",
     "text": [
      "255.0\n",
      "1.0\n"
     ]
    }
   ],
   "source": [
    "# 輝度を揃える\n",
    "print(x.max())\n",
    "x /= x.max()\n",
    "print(x.max())"
   ]
  },
  {
   "cell_type": "code",
   "execution_count": 4,
   "metadata": {
    "collapsed": true
   },
   "outputs": [],
   "source": [
    "#データを「学習データ:テストデータ=9:1」に分ける\n",
    "x_train, x_test, y_train, y_test = train_test_split(x, y, test_size=0.1)\n",
    "\n",
    "# (データ数, チャネル数(色数), 縦, 横)の形式にする\n",
    "x_train=x_train.reshape((x_train.shape[0], 1, 28, 28))\n",
    "x_test=x_test.reshape((x_test.shape[0], 1, 28, 28))\n",
    "\n",
    "# 実験の各パラメータ\n",
    "batchsize = 100 # バッチサイズ。何個のデータをまとめて学習するか\n",
    "epoch = 20 # エポック数。訓練をデータセット何週分するか\n",
    "n_units = 100 # MLPの中間層の数。"
   ]
  },
  {
   "cell_type": "code",
   "execution_count": 6,
   "metadata": {
    "collapsed": true
   },
   "outputs": [],
   "source": [
    "def train(model, optimizer, x_data, y_data, batchsize=10):\n",
    "    N = x_data.shape[0]\n",
    "    perm = np.random.permutation(N) # 学習する順番をランダムに入れ替え\n",
    "    \n",
    "    sum_accuracy = 0    # 累計正答率\n",
    "    sum_loss = 0        # 累計誤差\n",
    "    start = time.time() # 開始時刻\n",
    "    \n",
    "    # batchsize個ずつ学習\n",
    "    for i in tqdm(range(0, N, batchsize)):\n",
    "        x = chainer.Variable(np.asarray(x_data[i:i + batchsize]))\n",
    "        t = chainer.Variable(np.asarray(y_data[i:i + batchsize]))\n",
    "\n",
    "        # パラメータの更新(学習)\n",
    "        optimizer.update(model, x, t)\n",
    "        \n",
    "        sum_loss += float(model.loss.data) * len(t.data)\n",
    "        sum_accuracy += float(model.accuracy.data) * len(t.data)\n",
    "        \n",
    "    end = time.time() # 終了時刻\n",
    "    elapsed_time = end - start\n",
    "    throughput = N / elapsed_time # 単位時間当たりの作業量\n",
    "    print(\"train mean loss={}, accuracy={}, throughput={} image/sec\".format(sum_loss / N, sum_accuracy / N, throughput))"
   ]
  },
  {
   "cell_type": "code",
   "execution_count": 7,
   "metadata": {
    "collapsed": true
   },
   "outputs": [],
   "source": [
    "def evaluate(model, x_data, y_data, batchsize=10):\n",
    "    N = x_data.shape[0]\n",
    "    perm = np.random.permutation(N) # 学習する順番をランダムに入れ替え\n",
    "    \n",
    "    sum_accuracy = 0    # 累計正答率\n",
    "    sum_loss = 0        # 累計誤差\n",
    "    \n",
    "    # batchsize個ずつ評価\n",
    "    for i in tqdm(range(0, N, batchsize)):\n",
    "        # 評価の時はvolatile\n",
    "        x = chainer.Variable(np.asarray(x_data[i:i + batchsize]))\n",
    "        t = chainer.Variable(np.asarray(y_data[i:i + batchsize]))\n",
    "        \n",
    "        # 評価\n",
    "        loss = model(x, t)\n",
    "        sum_loss += float(loss.data) * len(t.data)\n",
    "        sum_accuracy += float(model.accuracy.data) * len(t.data)\n",
    "        \n",
    "    print(\"test mean loss={}, accuracy={}\".format(\n",
    "        sum_loss / N, sum_accuracy / N))"
   ]
  },
  {
   "cell_type": "markdown",
   "metadata": {},
   "source": [
    "## MLP"
   ]
  },
  {
   "cell_type": "code",
   "execution_count": 8,
   "metadata": {
    "collapsed": true
   },
   "outputs": [],
   "source": [
    "class MnistMLP(chainer.Chain):\n",
    "    def __init__(self, n_units):\n",
    "        super(MnistMLP, self).__init__(\n",
    "            l1=L.Linear(None, n_units),\n",
    "            l2=L.Linear(n_units, n_units),\n",
    "            l3=L.Linear(n_units, 10),\n",
    "        )\n",
    "\n",
    "    def __call__(self, x):\n",
    "        h1 = F.relu(self.l1(x))\n",
    "        h2 = F.relu(self.l2(h1))\n",
    "        return self.l3(h2)"
   ]
  },
  {
   "cell_type": "code",
   "execution_count": 9,
   "metadata": {
    "collapsed": true
   },
   "outputs": [],
   "source": [
    "mlp = L.Classifier(MnistMLP(1000))\n",
    "optimizer = optimizers.Adam()\n",
    "optimizer.setup(mlp)"
   ]
  },
  {
   "cell_type": "code",
   "execution_count": null,
   "metadata": {
    "scrolled": true
   },
   "outputs": [],
   "source": [
    "# train MLP\n",
    "n_epoch = 10 # 学習回数(学習データを何周するか)\n",
    "for epoch in range(1, n_epoch + 1):\n",
    "    print(\"epoch\", epoch)\n",
    "    \n",
    "    # 訓練\n",
    "    train(mlp, optimizer, x_train, y_train, batchsize=100)\n",
    "    \n",
    "    # 評価\n",
    "    evaluate(mlp, x_test, y_test, batchsize=100)"
   ]
  },
  {
   "cell_type": "markdown",
   "metadata": {},
   "source": [
    "## CNN"
   ]
  },
  {
   "cell_type": "markdown",
   "metadata": {},
   "source": [
    "### 畳み込み層\n",
    "links.Convolution2D(入力チャネル数(RGBなら3)，出力フィルタ数， カーネルサイズ， ストライド(デフォルト1)， パディング(デフォルト0)，・・・）  \n",
    "割り切れないとダメ\n",
    "http://docs.chainer.org/en/stable/reference/generated/chainer.links.Convolution2D.html"
   ]
  },
  {
   "cell_type": "code",
   "execution_count": 11,
   "metadata": {
    "scrolled": true
   },
   "outputs": [
    {
     "name": "stdout",
     "output_type": "stream",
     "text": [
      "(10, 3, 28, 28)\n",
      "(10, 16, 28, 28)\n"
     ]
    }
   ],
   "source": [
    "x = np.arange(10 * 3 * 28 * 28, dtype=np.float32).reshape(10, 3, 28, 28)\n",
    "print(x.shape)\n",
    "\n",
    "conv = L.Convolution2D(3, 16, 3, pad=1)\n",
    "x_conv = conv(x)\n",
    "\n",
    "print(x_conv.shape)"
   ]
  },
  {
   "cell_type": "markdown",
   "metadata": {},
   "source": [
    "### プーリング層\n",
    "funtions.max_pooling_2d(入力，カーネルサイズ，ストライド，パディング\n",
    "奇数だと最後は空を0とみなす"
   ]
  },
  {
   "cell_type": "code",
   "execution_count": 13,
   "metadata": {},
   "outputs": [
    {
     "name": "stdout",
     "output_type": "stream",
     "text": [
      "(10, 16, 11, 11)\n",
      "(10, 16, 6, 6)\n"
     ]
    }
   ],
   "source": [
    "size = 11\n",
    "x = np.arange(10 * 16 * size* size, dtype=np.float32).reshape(10, 16, size, size)\n",
    "print(x.shape)\n",
    "\n",
    "x_pool = F.max_pooling_2d(x, 2)\n",
    "print(x_pool.shape)"
   ]
  },
  {
   "cell_type": "code",
   "execution_count": 15,
   "metadata": {},
   "outputs": [
    {
     "data": {
      "text/plain": [
       "1568"
      ]
     },
     "execution_count": 15,
     "metadata": {},
     "output_type": "execute_result"
    }
   ],
   "source": [
    "32*7*7"
   ]
  },
  {
   "cell_type": "code",
   "execution_count": 16,
   "metadata": {},
   "outputs": [],
   "source": [
    "class CNN(chainer.Chain):\n",
    "    def __init__(self):\n",
    "        super(CNN, self).__init__(\n",
    "            conv1=L.Convolution2D(1, 16, 3, pad=1),  # (入力チャンネル数、出力チャンネル数、フィルタサイズ)\n",
    "            conv2=L.Convolution2D(16, 32, 3, pad=1),\n",
    "            l1=L.Linear(32*7*7, 2*32*7*7),\n",
    "            l2=L.Linear(2*32*7*7, 10)\n",
    "        )\n",
    "        \n",
    "    def __call__(self, x):\n",
    "        # 以下のような変換が必要\n",
    "        x.data = x.data.reshape((len(x.data), 1, 28, 28))\n",
    "\n",
    "        h = F.relu(self.conv1(x)) # (16, 28, 28)\n",
    "        h = F.max_pooling_2d(h, 2) # (16, 14, 14)\n",
    "        h = F.relu(self.conv2(h)) # (32, 14, 14)\n",
    "        h = F.max_pooling_2d(h, 2) # (32, 7, 7)\n",
    "        h = F.dropout(F.relu(self.l1(h)))\n",
    "        y = self.l2(h)\n",
    "        return y"
   ]
  },
  {
   "cell_type": "code",
   "execution_count": 18,
   "metadata": {},
   "outputs": [
    {
     "name": "stderr",
     "output_type": "stream",
     "text": [
      "\r",
      "  0%|          | 0/630 [00:00<?, ?it/s]"
     ]
    },
    {
     "name": "stdout",
     "output_type": "stream",
     "text": [
      "\n",
      "epoch 1\n"
     ]
    },
    {
     "name": "stderr",
     "output_type": "stream",
     "text": [
      "100%|██████████| 630/630 [02:56<00:00,  4.21it/s]\n",
      "  1%|▏         | 1/70 [00:00<00:07,  9.39it/s]"
     ]
    },
    {
     "name": "stdout",
     "output_type": "stream",
     "text": [
      "train mean loss=2.3632889263213626, accuracy=0.08925396852668316, throughput=357.575326383765 image/sec\n"
     ]
    },
    {
     "name": "stderr",
     "output_type": "stream",
     "text": [
      "100%|██████████| 70/70 [00:07<00:00,  9.29it/s]"
     ]
    },
    {
     "name": "stdout",
     "output_type": "stream",
     "text": [
      "test mean loss=2.360305496624538, accuracy=0.09071428584200995\n"
     ]
    },
    {
     "name": "stderr",
     "output_type": "stream",
     "text": [
      "\n"
     ]
    }
   ],
   "source": [
    "# train CNN\n",
    "cnn = L.Classifier(CNN())\n",
    "optimizer = optimizers.Adam()\n",
    "optimizer.setup(mlp)\n",
    "\n",
    "# train MLP\n",
    "n_epoch = 1 # 学習回数(学習データを何周するか)\n",
    "for epoch in range(1, n_epoch + 1):\n",
    "    print(\"\\nepoch\", epoch)\n",
    "    \n",
    "    # 訓練\n",
    "    train(cnn, optimizer, x_train, y_train, batchsize=100)\n",
    "    \n",
    "    # 評価\n",
    "    evaluate(cnn, x_test, y_test, batchsize=100)"
   ]
  }
 ],
 "metadata": {
  "kernelspec": {
   "display_name": "Python 3",
   "language": "python",
   "name": "python3"
  },
  "language_info": {
   "codemirror_mode": {
    "name": "ipython",
    "version": 3
   },
   "file_extension": ".py",
   "mimetype": "text/x-python",
   "name": "python",
   "nbconvert_exporter": "python",
   "pygments_lexer": "ipython3",
   "version": "3.5.4"
  }
 },
 "nbformat": 4,
 "nbformat_minor": 2
}
