{
 "cells": [
  {
   "cell_type": "markdown",
   "metadata": {},
   "source": [
    "# Python基礎"
   ]
  },
  {
   "cell_type": "code",
   "execution_count": 5,
   "metadata": {
    "collapsed": true
   },
   "outputs": [],
   "source": [
    "# モジュールのインポート\n",
    "import numpy as np"
   ]
  },
  {
   "cell_type": "code",
   "execution_count": 38,
   "metadata": {},
   "outputs": [
    {
     "name": "stdout",
     "output_type": "stream",
     "text": [
      "1.000\n"
     ]
    }
   ],
   "source": [
    "# 文字列フォーマット\n",
    "a = 1.00000\n",
    "print(\"{:.3f}\".format(a)) # %は古い．\n",
    "# print(f\"{a:.3f}\") # python3.6"
   ]
  },
  {
   "cell_type": "code",
   "execution_count": 36,
   "metadata": {},
   "outputs": [
    {
     "name": "stdout",
     "output_type": "stream",
     "text": [
      "[2, 4, 6, 8, 10]\n"
     ]
    }
   ],
   "source": [
    "# 内包表記． rangeのstep：増加量\n",
    "b = [i for i in range(2, 11, 2)]\n",
    "print(b)"
   ]
  },
  {
   "cell_type": "code",
   "execution_count": 6,
   "metadata": {},
   "outputs": [
    {
     "name": "stdout",
     "output_type": "stream",
     "text": [
      "{0: 'a', 1: 'b', 2: 'c', 3: 'd', 4: 'e', 5: 'f'}\n"
     ]
    }
   ],
   "source": [
    "# enumerate：シーケンス型(順序のある要素)のインデックスと値を一つずつ取り出す\n",
    "c = np.array([\"a\",\"b\",\"c\",\"d\",\"e\",\"f\"])\n",
    "d = {i: v for i, v in enumerate(c)}\n",
    "print(d)"
   ]
  },
  {
   "cell_type": "code",
   "execution_count": 6,
   "metadata": {},
   "outputs": [
    {
     "data": {
      "text/plain": [
       "array([[ 19.,  22.],\n",
       "       [ 43.,  50.]])"
      ]
     },
     "execution_count": 6,
     "metadata": {},
     "output_type": "execute_result"
    }
   ],
   "source": [
    "# 行列の積\n",
    "a = np.array([[1., 2.], [3., 4.]])\n",
    "b = np.array([[5. ,6.], [7., 8.]])\n",
    "a.dot(b)"
   ]
  },
  {
   "cell_type": "code",
   "execution_count": 13,
   "metadata": {
    "scrolled": true
   },
   "outputs": [
    {
     "data": {
      "text/plain": [
       "0.98386991009990743"
      ]
     },
     "execution_count": 13,
     "metadata": {},
     "output_type": "execute_result"
    }
   ],
   "source": [
    "# ベクトルのcos\n",
    "a = np.array([1., 2.])\n",
    "b = np.array([3., 4.])\n",
    "a.dot(b) / (np.linalg.norm(a)*np.linalg.norm(b))"
   ]
  },
  {
   "cell_type": "code",
   "execution_count": 37,
   "metadata": {},
   "outputs": [
    {
     "name": "stdout",
     "output_type": "stream",
     "text": [
      "name:Bob, age:2, sex:male\n",
      "count: 2\n"
     ]
    }
   ],
   "source": [
    "# クラス基礎\n",
    "class Human:\n",
    "    \n",
    "    count = 0 #cls. とすると，not defined．\n",
    "    \n",
    "    def __init__(self, name, age, sex):\n",
    "        self.name = name\n",
    "        self.age = age\n",
    "        self.sex = sex\n",
    "        self.count_instance()\n",
    "\n",
    "    @classmethod # インスタンスをカウントするクラスメソッド\n",
    "    def count_instance(cls):\n",
    "        cls.count += 1 # ス変数\n",
    "\n",
    "    def increment_age(self): # 年齢をインクリメントするインスタンスメソッド\n",
    "        self.age += 1\n",
    "        \n",
    "    def speak(self):\n",
    "        print(\"WAH\")\n",
    "\n",
    "human1 = Human(name=\"Bob\", age=1, sex='male')\n",
    "human2 = Human(name=\"Emily\", age=3, sex='female') \n",
    "\n",
    "human1.increment_age()\n",
    "\n",
    "# Python 3.6以降\n",
    "print(\"name:{}, age:{}, sex:{}\".format(human1.name, human1.age, human1.sex))\n",
    "print(\"count: {}\".format(Human.count))"
   ]
  },
  {
   "cell_type": "code",
   "execution_count": 59,
   "metadata": {},
   "outputs": [
    {
     "name": "stdout",
     "output_type": "stream",
     "text": [
      "add : 3\n",
      "sub : 1\n"
     ]
    }
   ],
   "source": [
    "# クラスの継承．\n",
    "class Calc: # (object)とあっても変わらない\n",
    "    \n",
    "    def __init__(self, x, y):\n",
    "        self.x = x\n",
    "        self.y = y\n",
    "        \n",
    "    def add(self):\n",
    "        return self.x + self.y\n",
    "        \n",
    "        \n",
    "class NewCalc(Calc):  # Calc クラスを継承してサブクラスを定義\n",
    "    \n",
    "    # なくてもいい．\n",
    "    def __init__(self, x, y): \n",
    "        super().__init__(x, y)\n",
    "    \n",
    "    def add(self): # addメソッドをオーバーライド． サブクラスが優先される．\n",
    "        return self.x + self.y\n",
    "    \n",
    "    def sub(self):\n",
    "        return self.x - self.y\n",
    "    \n",
    "c = NewCalc(2, 1)\n",
    "print(\"add :\", c.add())\n",
    "print(\"sub :\", c.sub())"
   ]
  }
 ],
 "metadata": {
  "kernelspec": {
   "display_name": "Python 3",
   "language": "python",
   "name": "python3"
  },
  "language_info": {
   "codemirror_mode": {
    "name": "ipython",
    "version": 3
   },
   "file_extension": ".py",
   "mimetype": "text/x-python",
   "name": "python",
   "nbconvert_exporter": "python",
   "pygments_lexer": "ipython3",
   "version": "3.5.4"
  }
 },
 "nbformat": 4,
 "nbformat_minor": 2
}
