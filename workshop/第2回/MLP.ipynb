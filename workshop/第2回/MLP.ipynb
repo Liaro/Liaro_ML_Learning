{
 "cells": [
  {
   "cell_type": "markdown",
   "metadata": {},
   "source": [
    "# 第4回講義 宿題"
   ]
  },
  {
   "cell_type": "markdown",
   "metadata": {
    "collapsed": true
   },
   "source": [
    "## 課題. MNISTデータセットを多層パーセプトロン(MLP)で学習せよ"
   ]
  },
  {
   "cell_type": "markdown",
   "metadata": {},
   "source": [
    "### 注意\n",
    "- homework関数を完成させて提出してください\n",
    "    - 訓練データはtrain_X, train_y, テストデータはtest_Xで与えられます\n",
    "    - train_Xとtrain_yをtrain_X, train_yとvalid_X, valid_yに分けるなどしてモデルを学習させてください\n",
    "    - test_Xに対して予想ラベルpred_yを作り, homework関数の戻り値としてください\\\n",
    "- pred_yのtest_yに対する精度(F値)で評価します\n",
    "- 全体の実行時間がiLect上で60分を超えないようにしてください\n",
    "- homework関数の外には何も書かないでください (必要なものは全てhomework関数に入れてください)\n",
    "- 解答提出時には Answer Cell の内容のみを提出してください"
   ]
  },
  {
   "cell_type": "markdown",
   "metadata": {},
   "source": [
    "- MLPの実装にTensorflowなどのライブラリを使わないでください"
   ]
  },
  {
   "cell_type": "markdown",
   "metadata": {},
   "source": [
    "### ヒント\n",
    "- 出力y(softmaxの?)はone-of-k表現 * ある要素のみ1，それ以外の要素が0のベクトル． \n",
    "- 最終層の活性化関数はソフトマックス関数, 誤差関数は多クラス交差エントロピー\n",
    "- 最終層のデルタは教科書参照"
   ]
  },
  {
   "cell_type": "markdown",
   "metadata": {},
   "source": [
    "次のセルのhomework関数を完成させて提出してください"
   ]
  },
  {
   "cell_type": "markdown",
   "metadata": {},
   "source": [
    "# Answer Cell"
   ]
  },
  {
   "cell_type": "code",
   "execution_count": 24,
   "metadata": {
    "collapsed": true,
    "deletable": false,
    "ilect": {
     "is_homework": true
    }
   },
   "outputs": [],
   "source": [
    "# 他クラス分類であることに注意．誤差関数と出力が変わる．\n",
    "# k近傍方は97~8%．これは98%くらい出る．\n",
    "# tensorflowは使用禁止．\n",
    "# メーリングリストで注意事項流す．"
   ]
  },
  {
   "cell_type": "code",
   "execution_count": 1,
   "metadata": {
    "collapsed": true
   },
   "outputs": [],
   "source": [
    "def homework(train_X, train_y, test_X): \n",
    "\n",
    "    from collections import OrderedDict\n",
    "    \n",
    "    # Softmax   \n",
    "    def softmax(x):\n",
    "        if x.ndim == 2: # バッチ処理が行われている場合．\n",
    "            x = x.T\n",
    "            x = x - np.max(x, axis=0)\n",
    "            y = np.exp(x) / np.sum(np.exp(x), axis=0)            \n",
    "            return y.T \n",
    "        else:\n",
    "            x = x - np.max(x) # オーバーフロー対策        \n",
    "            return np.exp(x) / np.sum(np.exp(x))\n",
    "\n",
    "    #　交差エントロピー  \n",
    "    def cross_entropy_error(y, t):\n",
    "        if y.ndim == 1:\n",
    "            t = t.reshape(1, t.size)\n",
    "            y = y.reshape(1, y.size)\n",
    "        batch_size = y.shape[0]      \n",
    "        return -np.sum(np.log(y[np.arange(batch_size), t])) / batch_size\n",
    "\n",
    "    # ReLUレイヤ\n",
    "    class Relu:\n",
    "        def __init__(self):\n",
    "            self.mask = None\n",
    "\n",
    "        def forward(self, x):\n",
    "            self.mask = (x <= 0)\n",
    "            out = x.copy()\n",
    "            out[self.mask] = 0\n",
    "            return out\n",
    "\n",
    "        def backward(self, dout):\n",
    "            dout[self.mask] = 0\n",
    "            dx = dout\n",
    "            return dx\n",
    "\n",
    "    # Affineレイヤ     \n",
    "    class Affine:\n",
    "        def __init__(self, W, b):\n",
    "            self.W =W\n",
    "            self.b = b\n",
    "\n",
    "            self.x = None\n",
    "            self.original_x_shape = None\n",
    "            # 重み・バイアスパラメータの微分\n",
    "            self.dW = None\n",
    "            self.db = None\n",
    "\n",
    "        def forward(self, x):\n",
    "            self.x = x\n",
    "            out = np.dot(self.x, self.W) + self.b\n",
    "            return out\n",
    "\n",
    "        def backward(self, dout):\n",
    "            dx = np.dot(dout, self.W.T)\n",
    "            self.dW = np.dot(self.x.T, dout)\n",
    "            self.db = np.sum(dout, axis=0)\n",
    "            return dx\n",
    "\n",
    "    # Softmaxレイヤ     \n",
    "    class SoftmaxWithLoss:\n",
    "        def __init__(self):\n",
    "            self.loss = None\n",
    "            self.y = None # softmaxの出力\n",
    "            self.t = None # 教師データ\n",
    "\n",
    "        def forward(self, x, t):\n",
    "            self.t = t\n",
    "            self.y = softmax(x)\n",
    "            self.loss = cross_entropy_error(self.y, self.t)\n",
    "            return self.loss\n",
    "\n",
    "        def backward(self, dout=1):\n",
    "            batch_size = self.t.shape[0]\n",
    "            dx = self.y.copy()\n",
    "            dx[np.arange(batch_size), self.t] -= 1\n",
    "            dx = dx / batch_size\n",
    "            return dx\n",
    "    \n",
    "    # ニューラルネットワーク     \n",
    "    class TwoLayerNet:\n",
    "\n",
    "        def __init__(self, input_size, hidden_size, output_size, weight_init_std = 0.01):\n",
    "            # 重みの初期化\n",
    "            self.params = {}\n",
    "            self.params['W1'] = weight_init_std * np.random.randn(input_size, hidden_size)\n",
    "            self.params['b1'] = np.zeros(hidden_size)\n",
    "            self.params['W2'] = weight_init_std * np.random.randn(hidden_size, output_size)\n",
    "            self.params['b2'] = np.zeros(output_size)\n",
    "\n",
    "            # レイヤの生成\n",
    "            self.layers = OrderedDict()\n",
    "            self.layers['Affine1'] = Affine(self.params['W1'], self.params['b1'])\n",
    "            self.layers['Relu1'] = Relu()\n",
    "            self.layers['Affine2'] = Affine(self.params['W2'], self.params['b2'])\n",
    "\n",
    "            self.lastLayer = SoftmaxWithLoss()\n",
    "\n",
    "        def predict(self, x):\n",
    "            for layer in self.layers.values():\n",
    "                x = layer.forward(x)\n",
    "            return x\n",
    "\n",
    "        def loss(self, x, t): \n",
    "            y = self.predict(x)\n",
    "            return self.lastLayer.forward(y, t)\n",
    "\n",
    "        def gradient(self, x, t): #\n",
    "            # forward\n",
    "            self.loss(x, t)\n",
    "\n",
    "            # backward\n",
    "            dout = 1\n",
    "            dout = self.lastLayer.backward(dout)\n",
    "\n",
    "            layers = list(self.layers.values())\n",
    "            layers.reverse()\n",
    "            for layer in layers:\n",
    "                dout = layer.backward(dout)\n",
    "\n",
    "            grads = {}\n",
    "            grads['W1'], grads['b1'] = self.layers['Affine1'].dW, self.layers['Affine1'].db\n",
    "            grads['W2'], grads['b2'] = self.layers['Affine2'].dW, self.layers['Affine2'].db\n",
    "            return grads\n",
    "\n",
    "    network = TwoLayerNet(input_size=784, hidden_size=50, output_size=10)\n",
    "\n",
    "    iters_num = 10000\n",
    "    train_size = train_X.shape[0]\n",
    "    batch_size = 100\n",
    "    learning_rate = 0.1 # 改善の余地あり．\n",
    "\n",
    "    iter_per_epoch = max(train_size / batch_size, 1) # 何やってるの？\n",
    "\n",
    "    for i in range(iters_num):\n",
    "        batch_mask = np.random.choice(train_size, batch_size)\n",
    "        x_batch = train_X[batch_mask]\n",
    "        t_batch = train_y[batch_mask]\n",
    "\n",
    "        # 勾配\n",
    "        grad = network.gradient(x_batch, t_batch)\n",
    "\n",
    "        # 更新\n",
    "        for key in ('W1', 'b1', 'W2', 'b2'):\n",
    "            network.params[key] -= learning_rate * grad[key]\n",
    "\n",
    "    # 出力     \n",
    "    pred_y = network.predict(test_X) # これはone of k 表現\n",
    "    pred_y = np.argmax(pred_y, axis = 1)\n",
    "    \n",
    "    return pred_y"
   ]
  },
  {
   "cell_type": "markdown",
   "metadata": {},
   "source": [
    "- 以下のvalidate_homework関数を用いてエラーが起きないか動作確認をして下さい。\n",
    "- 提出に際して、score_homework関数で60分で実行が終わることを確認して下さい。\n",
    "- 評価は以下のscore_homework関数で行われますが、random_stateの値は変更されます。"
   ]
  },
  {
   "cell_type": "markdown",
   "metadata": {},
   "source": [
    "# Checker Cell (for student)"
   ]
  },
  {
   "cell_type": "code",
   "execution_count": 2,
   "metadata": {
    "collapsed": true,
    "deletable": false,
    "ilect": {
     "course_id": 4,
     "course_rank": 4,
     "is_evaluation": true
    }
   },
   "outputs": [],
   "source": [
    "from sklearn.utils import shuffle\n",
    "from sklearn.metrics import f1_score\n",
    "from sklearn.datasets import fetch_mldata\n",
    "from sklearn.model_selection import train_test_split\n",
    "\n",
    "import numpy as np\n",
    "\n",
    "def load_mnist():\n",
    "    mnist = fetch_mldata('MNIST original')\n",
    "    mnist_X, mnist_y = shuffle(mnist.data.astype('float32'),\n",
    "                               mnist.target.astype('int32'), random_state=42)\n",
    "\n",
    "    mnist_X = mnist_X / 255.0\n",
    "\n",
    "    return train_test_split(mnist_X, mnist_y,\n",
    "                test_size=0.2,\n",
    "                random_state=42)\n",
    "\n",
    "def validate_homework():\n",
    "    train_X, test_X, train_y, test_y = load_mnist()\n",
    "\n",
    "    # validate for small dataset\n",
    "    train_X_mini = train_X[:100]\n",
    "    train_y_mini = train_y[:100]\n",
    "    test_X_mini = test_X[:100]\n",
    "    test_y_mini = test_y[:100]\n",
    "\n",
    "    pred_y = homework(train_X_mini, train_y_mini, test_X_mini)\n",
    "    print(f1_score(test_y_mini, pred_y, average='macro'))\n",
    "\n",
    "def score_homework():\n",
    "    train_X, test_X, train_y, test_y = load_mnist()\n",
    "    pred_y = homework(train_X, train_y, test_X)\n",
    "    print(f1_score(test_y, pred_y, average='macro'))"
   ]
  },
  {
   "cell_type": "code",
   "execution_count": 3,
   "metadata": {},
   "outputs": [
    {
     "name": "stdout",
     "output_type": "stream",
     "text": [
      "0.646597856534\n"
     ]
    }
   ],
   "source": [
    "validate_homework()\n",
    "score_homework()"
   ]
  }
 ],
 "metadata": {
  "anaconda-cloud": {},
  "kernelspec": {
   "display_name": "Python 3",
   "language": "python",
   "name": "python3"
  },
  "language_info": {
   "codemirror_mode": {
    "name": "ipython",
    "version": 3
   },
   "file_extension": ".py",
   "mimetype": "text/x-python",
   "name": "python",
   "nbconvert_exporter": "python",
   "pygments_lexer": "ipython3",
   "version": "3.6.1"
  }
 },
 "nbformat": 4,
 "nbformat_minor": 1
}
