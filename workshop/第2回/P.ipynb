{
 "cells": [
  {
   "cell_type": "code",
   "execution_count": 5,
   "metadata": {
    "collapsed": true
   },
   "outputs": [],
   "source": [
    "%matplotlib inline\n",
    "import numpy as np\n",
    "import matplotlib.pyplot as plt"
   ]
  },
  {
   "cell_type": "code",
   "execution_count": 4,
   "metadata": {},
   "outputs": [
    {
     "data": {
      "text/plain": [
       "1"
      ]
     },
     "execution_count": 4,
     "metadata": {},
     "output_type": "execute_result"
    }
   ],
   "source": [
    "# パーセプトロン\n",
    "def perceptron(x):\n",
    "    W  = np.array([1,2])\n",
    "    b = 3\n",
    "    y = np.dot(x,W) + b\n",
    "    return 1if y >= 0 else 0\n",
    "    \n",
    "x = np.array([1, 0])\n",
    "perceptron(x)"
   ]
  },
  {
   "cell_type": "code",
   "execution_count": 6,
   "metadata": {},
   "outputs": [
    {
     "name": "stdout",
     "output_type": "stream",
     "text": [
      "[ 0.003 -0.003 -0.001]\n"
     ]
    },
    {
     "data": {
      "image/png": "[encoded data removed]",
      "text/plain": [
       "<matplotlib.figure.Figure at 0x114eb0828>"
      ]
     },
     "metadata": {},
     "output_type": "display_data"
    }
   ],
   "source": [
    "class Perceptron(object):\n",
    "    \n",
    "    def __init__(self, eta=0.001, n_iter=1000): # 1000\n",
    "        self.eta = eta\n",
    "        self.n_iter = n_iter\n",
    "        \n",
    "    def fit(self, X, y):\n",
    "        self.w = np.zeros(1+X.shape[1]) # W[0]　がバイアス．\n",
    "        self.errors = []\n",
    "        \n",
    "        for _ in range(self.n_iter):\n",
    "            error = 0\n",
    "            for x, target in zip(X,y):\n",
    "                dif = target - self.predict(x)\n",
    "                update = dif * self.eta\n",
    "                self.w[1:] += update * x \n",
    "                self.w[0] += update\n",
    "                error += int(update != 0.0)\n",
    "            self.errors.append(error)\n",
    "        return self.w\n",
    "        \n",
    "    \n",
    "    def net_input(self, X):\n",
    "        return np.dot(X, self.w[1:]) +self.w[0] # ここがミスってた\n",
    "    \n",
    "    def predict(self, X):\n",
    "        return np.where(self.net_input(X) >= 0.0, 1, 0)\n",
    "    \n",
    "X = np.array([[0,0],[1,0],[0,1],[1,1], [0,1.5]])\n",
    "# X = np.array([[0,0], [1,0], [1,1], [0, 1]])\n",
    "y = np.array([1,1,1,0,1])\n",
    "# y = np.array([0, 1, 0, 1])\n",
    "\n",
    "colors = [\"r\", \"b\"]\n",
    "for p, q in zip(X,y):\n",
    "    plt.plot(p[0],p[1],\"o\", c=colors[q])\n",
    "    plt.xlim([-1,2])\n",
    "    plt.ylim([-1,2])\n",
    "    \n",
    "pct = Perceptron()\n",
    "print(pct.fit(X,y))\n",
    "    \n",
    "_x = np.arange(-1,2,0.1)\n",
    "_w = pct.w\n",
    "_y = [(_w[0]+_w[1]*x)/(-_w[2]) for x in _x]\n",
    "plt.plot(_x, _y)\n",
    "for p, q in zip(X,y):\n",
    "    plt.plot(p[0],p[1],\"o\", c=colors[q])\n",
    "    plt.xlim([-1,2])\n",
    "    plt.ylim([-1,2])"
   ]
  }
 ],
 "metadata": {
  "kernelspec": {
   "display_name": "Python 3",
   "language": "python",
   "name": "python3"
  },
  "language_info": {
   "codemirror_mode": {
    "name": "ipython",
    "version": 3
   },
   "file_extension": ".py",
   "mimetype": "text/x-python",
   "name": "python",
   "nbconvert_exporter": "python",
   "pygments_lexer": "ipython3",
   "version": "3.6.1"
  }
 },
 "nbformat": 4,
 "nbformat_minor": 2
}
