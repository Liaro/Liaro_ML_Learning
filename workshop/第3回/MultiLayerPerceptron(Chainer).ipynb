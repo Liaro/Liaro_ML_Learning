{
 "cells": [
  {
   "cell_type": "code",
   "execution_count": 83,
   "metadata": {
    "collapsed": false
   },
   "outputs": [],
   "source": [
    "%reload_ext autoreload\n",
    "%autoreload 2\n",
    "%matplotlib inline\n",
    "\n",
    "import time\n",
    "from tqdm import tqdm\n",
    "import numpy as np\n",
    "import matplotlib.pyplot as plt\n",
    "from sklearn.datasets import fetch_mldata\n",
    "from sklearn.cross_validation import train_test_split\n",
    "from sklearn.metrics import confusion_matrix\n",
    "\n",
    "import chainer\n",
    "import chainer.functions as F\n",
    "import chainer.links as L\n",
    "from chainer import optimizers\n",
    "#from chainer import serializers\n",
    "import cPickle as pickle # hdf5のインストールがめんどいからpickleでシリアライズ"
   ]
  },
  {
   "cell_type": "code",
   "execution_count": 2,
   "metadata": {
    "collapsed": false
   },
   "outputs": [],
   "source": [
    "# mnistをDL\n",
    "mnist = fetch_mldata(\"MNIST original\", data_home=\"./data\")"
   ]
  },
  {
   "cell_type": "code",
   "execution_count": 3,
   "metadata": {
    "collapsed": false
   },
   "outputs": [
    {
     "name": "stdout",
     "output_type": "stream",
     "text": [
      "(70000L, 784L)\n"
     ]
    },
    {
     "data": {
      "image/png": "[encoded data removed]",
      "text/plain": [
       "<matplotlib.figure.Figure at 0x3fe7fd0>"
      ]
     },
     "metadata": {},
     "output_type": "display_data"
    }
   ],
   "source": [
    "# データをロード\n",
    "x = mnist.data\n",
    "y = mnist.target\n",
    "x = x.astype(np.float32)\n",
    "y = y.astype(np.int32)\n",
    "\n",
    "# 内容を確認\n",
    "print x.shape # (700000, 784) => 28x28(784)の画像が70000枚\n",
    "plt.imshow(x[0].reshape((28,28)), cmap=plt.cm.gray) # (28, 28)に変換してグレースケールで表示\n",
    "plt.show()"
   ]
  },
  {
   "cell_type": "code",
   "execution_count": 4,
   "metadata": {
    "collapsed": true
   },
   "outputs": [],
   "source": [
    "# 輝度を揃える\n",
    "x /= x.max()"
   ]
  },
  {
   "cell_type": "code",
   "execution_count": 5,
   "metadata": {
    "collapsed": true
   },
   "outputs": [],
   "source": [
    "#データを「学習データ:テストデータ=9:1」に分ける\n",
    "x_train,x_test,y_train,y_test=train_test_split(x,y,test_size=0.1)"
   ]
  },
  {
   "cell_type": "code",
   "execution_count": 7,
   "metadata": {
    "collapsed": false
   },
   "outputs": [],
   "source": [
    "# (データ数, チャネル数(色数), 縦, 横)の形式にする\n",
    "x_train=x_train.reshape((x_train.shape[0], 1, 28, 28))\n",
    "x_test=x_test.reshape((x_test.shape[0], 1, 28, 28))"
   ]
  },
  {
   "cell_type": "code",
   "execution_count": 8,
   "metadata": {
    "collapsed": true
   },
   "outputs": [],
   "source": [
    "# 実験の各パラメータ\n",
    "batchsize = 100 # バッチサイズ。何個のデータをまとめて学習するか\n",
    "epoch = 20 # エポック数。訓練をデータセット何週分するか\n",
    "n_units = 100 # MLPの中間層の数。"
   ]
  },
  {
   "cell_type": "code",
   "execution_count": 57,
   "metadata": {
    "collapsed": false
   },
   "outputs": [],
   "source": [
    "# 訓練するモデル\n",
    "# chainerのexampleから引っ張ってきた\n",
    "\n",
    "class MnistMLP(chainer.Chain):\n",
    "    def __init__(self, n_units):\n",
    "        super(MnistMLP, self).__init__(\n",
    "            l1=L.Linear(784, n_units),\n",
    "            l2=L.Linear(n_units, n_units),\n",
    "            l3=L.Linear(n_units, 10),\n",
    "        )\n",
    "\n",
    "    def __call__(self, x):\n",
    "        h1 = F.relu(self.l1(x))\n",
    "        h2 = F.relu(self.l2(h1))\n",
    "        return self.l3(h2)"
   ]
  },
  {
   "cell_type": "code",
   "execution_count": 49,
   "metadata": {
    "collapsed": false
   },
   "outputs": [],
   "source": [
    "model = L.Classifier(MnistMLP(1000))"
   ]
  },
  {
   "cell_type": "code",
   "execution_count": 50,
   "metadata": {
    "collapsed": false
   },
   "outputs": [],
   "source": [
    "# 最適化アルゴリズムを選択\n",
    "# Adamを使う\n",
    "optimizer = optimizers.Adam()\n",
    "optimizer.setup(model)"
   ]
  },
  {
   "cell_type": "code",
   "execution_count": 51,
   "metadata": {
    "collapsed": true
   },
   "outputs": [],
   "source": [
    "def train(model, optimizer, x_data, y_data, batchsize=10):\n",
    "    N = x_data.shape[0] # 学習データ数(63000)\n",
    "    perm = np.random.permutation(N) # 学習する順番をランダムに入れ替え\n",
    "    \n",
    "    sum_accuracy = 0    # 累計正答率\n",
    "    sum_loss = 0        # 累計誤差\n",
    "    start = time.time() # 開始時刻\n",
    "    \n",
    "    # batchsize個ずつ学習\n",
    "    for i in tqdm(range(0, N, batchsize)):\n",
    "        x = chainer.Variable(np.asarray(x_data[i:i + batchsize]))\n",
    "        t = chainer.Variable(np.asarray(y_data[i:i + batchsize]))\n",
    "        \n",
    "        # パラメータの更新(学習)\n",
    "        optimizer.update(model, x, t)\n",
    "        \n",
    "        sum_loss += float(model.loss.data) * len(t.data)\n",
    "        sum_accuracy += float(model.accuracy.data) * len(t.data)\n",
    "        \n",
    "    end = time.time() # 終了時刻\n",
    "    elapsed_time = end - start\n",
    "    throughput = N / elapsed_time # 単位時間当たりの作業量\n",
    "    print(\"train mean loss={}, accuracy={}, throughput={} image/sec\".format(\n",
    "        sum_loss / N, sum_accuracy / N, throughput))"
   ]
  },
  {
   "cell_type": "code",
   "execution_count": 52,
   "metadata": {
    "collapsed": true
   },
   "outputs": [],
   "source": [
    "def evaluate(model, x_data, y_data, batchsize=10):\n",
    "    N = x_data.shape[0] # テストデータ数(7000)\n",
    "    perm = np.random.permutation(N) # 学習する順番をランダムに入れ替え\n",
    "    \n",
    "    sum_accuracy = 0    # 累計正答率\n",
    "    sum_loss = 0        # 累計誤差\n",
    "    \n",
    "    # batchsize個ずつ評価\n",
    "    for i in tqdm(range(0, N, batchsize)):\n",
    "        # 評価の時はvolatile\n",
    "        x = chainer.Variable(np.asarray(x_data[i:i + batchsize]),\n",
    "                             volatile=\"on\")\n",
    "        t = chainer.Variable(np.asarray(y_data[i:i + batchsize]),\n",
    "                             volatile=\"on\")\n",
    "        \n",
    "        # 評価\n",
    "        loss = model(x, t)\n",
    "        sum_loss += float(loss.data) * len(t.data)\n",
    "        sum_accuracy += float(model.accuracy.data) * len(t.data)\n",
    "        \n",
    "    print(\"test mean loss={}, accuracy={}\".format(\n",
    "        sum_loss / N, sum_accuracy / N))"
   ]
  },
  {
   "cell_type": "code",
   "execution_count": 53,
   "metadata": {
    "collapsed": false
   },
   "outputs": [
    {
     "name": "stderr",
     "output_type": "stream",
     "text": [
      "  0%|▏                                                         | 2/630 [00:00<00:44, 13.99it/s]"
     ]
    },
    {
     "name": "stdout",
     "output_type": "stream",
     "text": [
      "('epoch', 1)\n"
     ]
    },
    {
     "name": "stderr",
     "output_type": "stream",
     "text": [
      " 16%|████████▉                                                | 11/70 [00:00<00:00, 100.92it/s]"
     ]
    },
    {
     "name": "stdout",
     "output_type": "stream",
     "text": [
      "train mean loss=0.186727751153, accuracy=0.944079367994, throughput=1415.34866735 image/sec\n"
     ]
    },
    {
     "name": "stderr",
     "output_type": "stream",
     "text": [
      "  0%|▏                                                         | 2/630 [00:00<00:44, 14.18it/s]"
     ]
    },
    {
     "name": "stdout",
     "output_type": "stream",
     "text": [
      "test mean loss=0.0778330597494, accuracy=0.975285727637\n",
      "('epoch', 2)\n"
     ]
    },
    {
     "name": "stderr",
     "output_type": "stream",
     "text": [
      " 14%|████████▎                                                 | 10/70 [00:00<00:00, 97.09it/s]"
     ]
    },
    {
     "name": "stdout",
     "output_type": "stream",
     "text": [
      "train mean loss=0.0701826661818, accuracy=0.978238105395, throughput=1307.35230327 image/sec\n"
     ]
    },
    {
     "name": "stderr",
     "output_type": "stream",
     "text": [
      "  0%|▏                                                         | 2/630 [00:00<00:45, 13.70it/s]"
     ]
    },
    {
     "name": "stdout",
     "output_type": "stream",
     "text": [
      "test mean loss=0.0719178480894, accuracy=0.977428586142\n",
      "('epoch', 3)\n"
     ]
    },
    {
     "name": "stderr",
     "output_type": "stream",
     "text": [
      " 30%|█████████████████                                        | 21/70 [00:00<00:00, 100.95it/s]"
     ]
    },
    {
     "name": "stdout",
     "output_type": "stream",
     "text": [
      "train mean loss=0.0417838281826, accuracy=0.986603184352, throughput=1258.21333457 image/sec\n"
     ]
    },
    {
     "name": "stderr",
     "output_type": "stream",
     "text": [
      "  0%|▏                                                         | 2/630 [00:00<00:47, 13.33it/s]"
     ]
    },
    {
     "name": "stdout",
     "output_type": "stream",
     "text": [
      "test mean loss=0.0842518328623, accuracy=0.975714296954\n",
      "('epoch', 4)\n"
     ]
    },
    {
     "name": "stderr",
     "output_type": "stream",
     "text": [
      " 13%|███████▌                                                   | 9/70 [00:00<00:00, 86.54it/s]"
     ]
    },
    {
     "name": "stdout",
     "output_type": "stream",
     "text": [
      "train mean loss=0.0344528395379, accuracy=0.988412708139, throughput=1276.33711779 image/sec\n"
     ]
    },
    {
     "name": "stderr",
     "output_type": "stream",
     "text": [
      "  0%|                                                          | 1/630 [00:00<01:04,  9.80it/s]"
     ]
    },
    {
     "name": "stdout",
     "output_type": "stream",
     "text": [
      "test mean loss=0.0912257000471, accuracy=0.976571439845\n",
      "('epoch', 5)\n"
     ]
    },
    {
     "name": "stderr",
     "output_type": "stream",
     "text": [
      " 11%|██████▋                                                    | 8/70 [00:00<00:00, 77.67it/s]"
     ]
    },
    {
     "name": "stdout",
     "output_type": "stream",
     "text": [
      "train mean loss=0.025077717211, accuracy=0.992142863974, throughput=1270.16129276 image/sec\n"
     ]
    },
    {
     "name": "stderr",
     "output_type": "stream",
     "text": [
      "  0%|▏                                                         | 2/630 [00:00<00:56, 11.17it/s]"
     ]
    },
    {
     "name": "stdout",
     "output_type": "stream",
     "text": [
      "test mean loss=0.102075108979, accuracy=0.97400001032\n",
      "('epoch', 6)\n"
     ]
    },
    {
     "name": "stderr",
     "output_type": "stream",
     "text": [
      " 10%|█████▉                                                     | 7/70 [00:00<00:00, 70.00it/s]"
     ]
    },
    {
     "name": "stdout",
     "output_type": "stream",
     "text": [
      "train mean loss=0.0219706931822, accuracy=0.992460323894, throughput=1219.77192368 image/sec\n"
     ]
    },
    {
     "name": "stderr",
     "output_type": "stream",
     "text": [
      "  0%|▏                                                         | 2/630 [00:00<00:53, 11.83it/s]"
     ]
    },
    {
     "name": "stdout",
     "output_type": "stream",
     "text": [
      "test mean loss=0.0902686440319, accuracy=0.97757143804\n",
      "('epoch', 7)\n"
     ]
    },
    {
     "name": "stderr",
     "output_type": "stream",
     "text": [
      " 16%|████████▉                                                | 11/70 [00:00<00:00, 102.80it/s]"
     ]
    },
    {
     "name": "stdout",
     "output_type": "stream",
     "text": [
      "train mean loss=0.0217439381231, accuracy=0.993095243923, throughput=1191.12893017 image/sec\n"
     ]
    },
    {
     "name": "stderr",
     "output_type": "stream",
     "text": [
      "  0%|▏                                                         | 2/630 [00:00<00:46, 13.51it/s]"
     ]
    },
    {
     "name": "stdout",
     "output_type": "stream",
     "text": [
      "test mean loss=0.0905340332671, accuracy=0.979000010661\n",
      "('epoch', 8)\n"
     ]
    },
    {
     "name": "stderr",
     "output_type": "stream",
     "text": [
      " 17%|█████████▊                                               | 12/70 [00:00<00:00, 114.29it/s]"
     ]
    },
    {
     "name": "stdout",
     "output_type": "stream",
     "text": [
      "train mean loss=0.0182794393601, accuracy=0.993793656429, throughput=1149.15272383 image/sec\n"
     ]
    },
    {
     "name": "stderr",
     "output_type": "stream",
     "text": [
      "  0%|▏                                                         | 2/630 [00:00<00:47, 13.25it/s]"
     ]
    },
    {
     "name": "stdout",
     "output_type": "stream",
     "text": [
      "test mean loss=0.0870895691216, accuracy=0.980000009707\n",
      "('epoch', 9)\n"
     ]
    },
    {
     "name": "stderr",
     "output_type": "stream",
     "text": [
      " 14%|████████▎                                                 | 10/70 [00:00<00:00, 89.29it/s]"
     ]
    },
    {
     "name": "stdout",
     "output_type": "stream",
     "text": [
      "train mean loss=0.0147219946501, accuracy=0.994968258672, throughput=1170.93842409 image/sec\n"
     ]
    },
    {
     "name": "stderr",
     "output_type": "stream",
     "text": [
      "  0%|                                                          | 1/630 [00:00<01:13,  8.55it/s]"
     ]
    },
    {
     "name": "stdout",
     "output_type": "stream",
     "text": [
      "test mean loss=0.0857967589191, accuracy=0.981142867463\n",
      "('epoch', 10)\n"
     ]
    },
    {
     "name": "stderr",
     "output_type": "stream",
     "text": [
      " 30%|█████████████████▍                                        | 21/70 [00:00<00:00, 99.39it/s]"
     ]
    },
    {
     "name": "stdout",
     "output_type": "stream",
     "text": [
      "train mean loss=0.0154247028921, accuracy=0.99514286168, throughput=1154.77674328 image/sec\n"
     ]
    },
    {
     "name": "stderr",
     "output_type": "stream",
     "text": [
      "                                                                                               "
     ]
    },
    {
     "name": "stdout",
     "output_type": "stream",
     "text": [
      "test mean loss=0.0921967311438, accuracy=0.980285726275\n"
     ]
    },
    {
     "name": "stderr",
     "output_type": "stream",
     "text": [
      "\r"
     ]
    }
   ],
   "source": [
    "n_epoch = 10 # 学習回数(学習データを何周するか)\n",
    "for epoch in range(1, n_epoch + 1):\n",
    "    print(\"epoch\", epoch)\n",
    "    \n",
    "    # 訓練\n",
    "    train(model, optimizer, x_train, y_train, batchsize=100)\n",
    "    \n",
    "    # 評価\n",
    "    evaluate(model, x_test, y_test, batchsize=100)"
   ]
  },
  {
   "cell_type": "code",
   "execution_count": 28,
   "metadata": {
    "collapsed": true
   },
   "outputs": [],
   "source": [
    "# モデルを保存\n",
    "with open(\"mnist_mlp.model\", \"wb\") as f:\n",
    "    pickle.dump(model, f)"
   ]
  },
  {
   "cell_type": "code",
   "execution_count": 30,
   "metadata": {
    "collapsed": true
   },
   "outputs": [],
   "source": [
    "# モデルをロード\n",
    "with open(\"mnist_mlp.model\", \"rb\") as f:\n",
    "    model = pickle.load(f)"
   ]
  },
  {
   "cell_type": "code",
   "execution_count": 60,
   "metadata": {
    "collapsed": false
   },
   "outputs": [
    {
     "name": "stdout",
     "output_type": "stream",
     "text": [
      "('target id', 5828)\n"
     ]
    },
    {
     "data": {
      "image/png": "[encoded data removed]",
      "text/plain": [
       "<matplotlib.figure.Figure at 0x3c9fe0f0>"
      ]
     },
     "metadata": {},
     "output_type": "display_data"
    },
    {
     "name": "stdout",
     "output_type": "stream",
     "text": [
      "('predict label :', 1)\n"
     ]
    }
   ],
   "source": [
    "# テストしてみる\n",
    "# 内容を確認\n",
    "target = np.random.randint(x_test.shape[0])\n",
    "print (\"target id\", target)\n",
    "plt.imshow(x_test[target].reshape((28,28)), cmap=plt.cm.gray) # (28, 28)に変換してグレースケールで表示\n",
    "plt.show()\n",
    "\n",
    "x = chainer.Variable(np.asarray([x_test[target]]), volatile=\"on\")\n",
    "t = chainer.Variable(np.asarray([y_test[target]]), volatile=\"on\")\n",
    "a = model.predictor(x)\n",
    "predict_label = np.argmax(a.data)\n",
    "\n",
    "print (\"predict label :\", predict_label)"
   ]
  },
  {
   "cell_type": "code",
   "execution_count": 62,
   "metadata": {
    "collapsed": false
   },
   "outputs": [],
   "source": [
    "category_dict = dict([(x, str(x)) for x in range(10)])\n",
    "\n",
    "def plot_confusion_matrix(cm, title='Confusion matrix', cmap=plt.cm.Blues):\n",
    "    plt.imshow(cm, interpolation='nearest', cmap=cmap)\n",
    "    plt.title(title)\n",
    "    plt.colorbar()\n",
    "    tick_marks = np.arange(len(category_dict))\n",
    "    plt.xticks(tick_marks, category_dict, rotation=45)\n",
    "    plt.yticks(tick_marks, category_dict)\n",
    "    plt.tight_layout()\n",
    "    plt.ylabel('True label')\n",
    "    plt.xlabel('Predicted label')"
   ]
  },
  {
   "cell_type": "code",
   "execution_count": 79,
   "metadata": {
    "collapsed": true
   },
   "outputs": [],
   "source": [
    "def predict(model, x_data, batchsize=10):\n",
    "    N = x_data.shape[0] # テストデータ数(7000)\n",
    "    predicts = []\n",
    "    # batchsize個ずつ予測\n",
    "    for i in tqdm(range(0, N, batchsize)):\n",
    "        # 評価の時はvolatile\n",
    "        x = chainer.Variable(np.asarray(x_data[i:i + batchsize]),\n",
    "                             volatile=\"on\")\n",
    "        \n",
    "        # 評価\n",
    "        a = model.predictor(x)\n",
    "        predict_labels = np.argmax(a.data, axis=1)\n",
    "        predicts.append(predict_labels)\n",
    "    \n",
    "    predicts = np.asarray(predicts)\n",
    "    return predicts.reshape((N))"
   ]
  },
  {
   "cell_type": "code",
   "execution_count": 81,
   "metadata": {
    "collapsed": false
   },
   "outputs": [
    {
     "name": "stderr",
     "output_type": "stream",
     "text": []
    }
   ],
   "source": [
    "y_pred = predict(model, x_test, batchsize=100)"
   ]
  },
  {
   "cell_type": "code",
   "execution_count": 84,
   "metadata": {
    "collapsed": false
   },
   "outputs": [
    {
     "name": "stdout",
     "output_type": "stream",
     "text": [
      "Confusion matrix, without normalization\n",
      "[[686   0   0   0   0   0   6   0   0   0]\n",
      " [  1 783   0   0   1   1   0   3   1   0]\n",
      " [  4   0 687   1   1   0   0   2   3   1]\n",
      " [  0   1   4 709   0   7   0   4   8   3]\n",
      " [  0   2   0   0 693   0   1   1   0   5]\n",
      " [  1   0   0   3   1 599   5   1   3   5]\n",
      " [  0   0   0   0   7   0 664   0   0   0]\n",
      " [  1   1   1   0   0   0   0 733   0   6]\n",
      " [  7   4   0   2   2   0   2   3 652   1]\n",
      " [  2   2   0   1   8   1   1   4   2 656]]\n"
     ]
    },
    {
     "data": {
      "image/png": "[encoded data removed]",
      "text/plain": [
       "<matplotlib.figure.Figure at 0x37280f0>"
      ]
     },
     "metadata": {},
     "output_type": "display_data"
    }
   ],
   "source": [
    "# Compute confusion matrix\n",
    "cm = confusion_matrix(y_test, y_pred)\n",
    "np.set_printoptions(precision=2)\n",
    "print('Confusion matrix, without normalization')\n",
    "print(cm)\n",
    "plt.figure()\n",
    "plot_confusion_matrix(cm)"
   ]
  },
  {
   "cell_type": "code",
   "execution_count": null,
   "metadata": {
    "collapsed": true
   },
   "outputs": [],
   "source": []
  }
 ],
 "metadata": {
  "kernelspec": {
   "display_name": "Python 2",
   "language": "python",
   "name": "python2"
  },
  "language_info": {
   "codemirror_mode": {
    "name": "ipython",
    "version": 2
   },
   "file_extension": ".py",
   "mimetype": "text/x-python",
   "name": "python",
   "nbconvert_exporter": "python",
   "pygments_lexer": "ipython2",
   "version": "2.7.11"
  }
 },
 "nbformat": 4,
 "nbformat_minor": 0
}
