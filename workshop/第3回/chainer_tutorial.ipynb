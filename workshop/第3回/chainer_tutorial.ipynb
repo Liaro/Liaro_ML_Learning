{
 "cells": [
  {
   "cell_type": "code",
   "execution_count": 69,
   "metadata": {
    "collapsed": true
   },
   "outputs": [],
   "source": [
    "import chainer\n",
    "import numpy as np\n",
    "import copy\n",
    "import pickle"
   ]
  },
  {
   "cell_type": "code",
   "execution_count": 4,
   "metadata": {},
   "outputs": [
    {
     "name": "stdout",
     "output_type": "stream",
     "text": [
      "(10, 6)\n",
      "60\n"
     ]
    }
   ],
   "source": [
    "# 配列の形を知りたい時はshape， データ数を知りたい時はsize\n",
    "a = np.arange(60).reshape(10, 6)\n",
    "print(a.shape) \n",
    "print(a.size)"
   ]
  },
  {
   "cell_type": "code",
   "execution_count": 7,
   "metadata": {},
   "outputs": [
    {
     "name": "stdout",
     "output_type": "stream",
     "text": [
      "[  0.00000000e+000   1.29074254e-231   4.24395921e-314   1.03030787e-061\n",
      "   2.90316357e-057   1.13283588e-037   5.41265244e-062   2.28636000e-314\n",
      "   1.49457775e-154   6.99675748e-309]\n"
     ]
    }
   ],
   "source": [
    "# 0や1以外での初期化\n",
    "print(np.empty(10))"
   ]
  },
  {
   "cell_type": "code",
   "execution_count": 8,
   "metadata": {},
   "outputs": [
    {
     "name": "stdout",
     "output_type": "stream",
     "text": [
      "[ 0.18847768  0.51002299  0.8144795 ]\n",
      "[-0.17880932  0.25338199  1.35057454]\n"
     ]
    }
   ],
   "source": [
    "# 乱数の生成． 通常は一様分布uniformと正規分布normalを知っていれば問題ない．\n",
    "print(np.random.uniform(0, 1, 3)) # 区間(0,1)の一様分布に従う乱数を3つ生成\n",
    "print(np.random.normal(1.5, 2.0, 3)) # 平均1.5, 標準偏差2,0の正規分布に従う乱数を3個生成"
   ]
  },
  {
   "cell_type": "code",
   "execution_count": 10,
   "metadata": {},
   "outputs": [
    {
     "name": "stdout",
     "output_type": "stream",
     "text": [
      "[1 0 5 2 4 3]\n",
      "[4 5 1 2 3 0]\n"
     ]
    }
   ],
   "source": [
    "# 要素をシャッフルした配列を生成． shuffleは配列を破壊的に並び替えるので， 通常はpermutatonを使うのが安全\n",
    "print(np.random.permutation(range(6))) # permutationは順列の意\n",
    "print(np.random.permutation(6)) # 省略形"
   ]
  },
  {
   "cell_type": "code",
   "execution_count": 12,
   "metadata": {
    "scrolled": true
   },
   "outputs": [
    {
     "data": {
      "text/plain": [
       "array([[ 1.,  0.,  0.,  0.,  0.],\n",
       "       [ 0.,  1.,  0.,  0.,  0.],\n",
       "       [ 0.,  0.,  1.,  0.,  0.],\n",
       "       [ 0.,  0.,  0.,  1.,  0.],\n",
       "       [ 0.,  0.,  0.,  0.,  1.]])"
      ]
     },
     "execution_count": 12,
     "metadata": {},
     "output_type": "execute_result"
    }
   ],
   "source": [
    "# 単位行列の生成\n",
    "np.identity(5)"
   ]
  },
  {
   "cell_type": "code",
   "execution_count": 18,
   "metadata": {},
   "outputs": [
    {
     "name": "stdout",
     "output_type": "stream",
     "text": [
      "[[ 0  1  2  6  7  8]\n",
      " [ 3  4  5  9 10 11]]\n",
      "\n",
      "[[ 0  1  2]\n",
      " [ 3  4  5]\n",
      " [ 6  7  8]\n",
      " [ 9 10 11]]\n"
     ]
    }
   ],
   "source": [
    "#  配列の結合\n",
    "a = np.arange(6).reshape(2, 3)\n",
    "b = np.arange(6, 12).reshape(2, 3)\n",
    "print(np.hstack([a,b]), end=\"\\n\\n\") # horizontal\n",
    "print(np.vstack([a,b])) # virtical"
   ]
  },
  {
   "cell_type": "code",
   "execution_count": 31,
   "metadata": {},
   "outputs": [
    {
     "name": "stdout",
     "output_type": "stream",
     "text": [
      "[ 2 14 26]\n"
     ]
    }
   ],
   "source": [
    "# スライス\n",
    "a = np.arange(30).reshape(5, 6)\n",
    "print(a[[0, 2,4], 2])"
   ]
  },
  {
   "cell_type": "code",
   "execution_count": 32,
   "metadata": {},
   "outputs": [
    {
     "name": "stdout",
     "output_type": "stream",
     "text": [
      "[[-1  1 -1  3 -1  5]\n",
      " [-1  7 -1  9 -1 11]\n",
      " [-1 13 -1 15 -1 17]\n",
      " [-1 19 -1 21 -1 23]\n",
      " [-1 25 -1 27 -1 29]]\n"
     ]
    }
   ],
   "source": [
    "# 置換\n",
    "a = np.arange(30).reshape(5, 6)\n",
    "a[a%2 == 0] = -1\n",
    "print(a)"
   ]
  },
  {
   "cell_type": "markdown",
   "metadata": {},
   "source": [
    "値渡し；変数の値をコピーする渡し方  \n",
    "参照渡し：変数を共有するような渡し方  \n",
    "\n",
    "    \n",
    "Pythonでは，変数や関数に値を渡す場合すべて参照渡しだが， Immutableな型のみ，値が変更されたときに新たなオブジェクトを生成する(元のオブジェクトは変更されない)．\n",
    "Mutableな型で値渡しをしたい場合はcopy()を利用．\n",
    "\n",
    "- 変更不可（Immutable）な型  \n",
    "    - int, float, str, tuple, bytes, frozenset 等  \n",
    "- 変更可能（Mutable）な型  \n",
    "    - list, dict, set, bytearray 等  "
   ]
  },
  {
   "cell_type": "code",
   "execution_count": 57,
   "metadata": {},
   "outputs": [
    {
     "name": "stdout",
     "output_type": "stream",
     "text": [
      "a = 0, id(a) = 4495615968\n",
      "a = 1, id(a) = 4495616000\n",
      "b = 0, id(b) = 4495615968\n"
     ]
    }
   ],
   "source": [
    "#  値渡しと参照渡し\n",
    "def foo(a):\n",
    "    print(f\"a = {a}, id(a) = {id(a)}\") # bと同じ\n",
    "    a += 1\n",
    "    print(f\"a = {a}, id(a) = {id(a)}\") # 新たな領域が確保される\n",
    "\n",
    "b = 0\n",
    "foo(b)\n",
    "print(f\"b = {b}, id(b) = {id(b)}\") # bの領域が確保される．値は変更されていない"
   ]
  },
  {
   "cell_type": "code",
   "execution_count": 43,
   "metadata": {},
   "outputs": [
    {
     "name": "stdout",
     "output_type": "stream",
     "text": [
      "[[0 1 2]\n",
      " [3 4 5]]\n",
      "\n",
      "[[0 0 0]\n",
      " [3 4 5]]\n",
      "\n",
      "[[0 0 0]\n",
      " [3 4 5]]\n"
     ]
    }
   ],
   "source": [
    "# コピー\n",
    "a = np.arange(6).reshape(2,3)\n",
    "print(a, end=\"\\n\\n\")\n",
    "b = a\n",
    "b[0] = 0\n",
    "print(a, end=\"\\n\\n\") # 元の配列も変更される\n",
    "\n",
    "c = a.copy()\n",
    "c[0] = 1\n",
    "print(a) # 元の配列は変更されない．"
   ]
  },
  {
   "cell_type": "code",
   "execution_count": 70,
   "metadata": {},
   "outputs": [
    {
     "name": "stdout",
     "output_type": "stream",
     "text": [
      "[[ 0 -2  0]\n",
      " [ 6  7  0]\n",
      " [ 3  2  3]]\n",
      "\n",
      "36.0\n",
      "\n",
      "[[ 0.58333333 -0.5        -0.25      ]\n",
      " [ 0.16666667  0.         -0.16666667]\n",
      " [ 0.          0.          0.33333333]]\n",
      "\n",
      "[ 3.  4.  3.]\n",
      "\n",
      "[[-0.89442719 -0.83205029  0.69674017]\n",
      " [-0.4472136  -0.5547002  -0.01025506]\n",
      " [ 0.          0.          0.71725028]]\n"
     ]
    }
   ],
   "source": [
    " # 逆行列， 転置行列， 行列式，　固有値\n",
    "a = np.array([[0, 6, 3], [-2, 7, 2], [0, 0, 3]])\n",
    "print(a.T, end=\"\\n\\n\")\n",
    "print(np.linalg.det(a), end=\"\\n\\n\") # 行列式\n",
    "print(np.linalg.inv(a), end=\"\\n\\n\") # 逆行列\n",
    "la, v = np.linalg.eig(a)\n",
    "print(la, end=\"\\n\\n\") # 固有値\n",
    "print(v) # 固有ベクトル"
   ]
  },
  {
   "cell_type": "code",
   "execution_count": 80,
   "metadata": {},
   "outputs": [
    {
     "name": "stdout",
     "output_type": "stream",
     "text": [
      "[[ 0.15309178 -0.85185388  0.59114131 ...,  0.14839234  0.83567768\n",
      "  -0.63671937]\n",
      " [-0.37338832 -0.33199545  1.93472797 ..., -1.05424288 -0.2511722\n",
      "   0.33626443]\n",
      " [-0.1653209   0.07774827  1.40448837 ..., -1.43479737 -0.78170837\n",
      "   1.66914773]\n",
      " ..., \n",
      " [ 0.08359049  0.99476276 -0.48383243 ..., -0.14521299  0.11700281\n",
      "  -1.62198993]\n",
      " [-1.7400307   0.43200656  0.20137576 ..., -0.73484022  0.75110433\n",
      "  -1.06945485]\n",
      " [-0.66899497 -0.34596118  0.35028989 ..., -0.59147038  0.54949762\n",
      "   0.92654538]]\n",
      "\n",
      "[[ 0.15309178 -0.85185388  0.59114131 ...,  0.14839234  0.83567768\n",
      "  -0.63671937]\n",
      " [-0.37338832 -0.33199545  1.93472797 ..., -1.05424288 -0.2511722\n",
      "   0.33626443]\n",
      " [-0.1653209   0.07774827  1.40448837 ..., -1.43479737 -0.78170837\n",
      "   1.66914773]\n",
      " ..., \n",
      " [ 0.08359049  0.99476276 -0.48383243 ..., -0.14521299  0.11700281\n",
      "  -1.62198993]\n",
      " [-1.7400307   0.43200656  0.20137576 ..., -0.73484022  0.75110433\n",
      "  -1.06945485]\n",
      " [-0.66899497 -0.34596118  0.35028989 ..., -0.59147038  0.54949762\n",
      "   0.92654538]]\n"
     ]
    }
   ],
   "source": [
    "# 配列の保存と呼び出し\n",
    "a = np.random.randn(10000).reshape(100, 100)\n",
    "print(a, end=\"\\n\\n\")\n",
    "f = open('a.pickle', 'wb') # a.pickleに書き出される． wだとエラー．\n",
    "pickle.dump(a, f)\n",
    "f.close()\n",
    "\n",
    "f = open(\"a.pickle\", \"rb\")\n",
    "a = pickle.load(f)\n",
    "f.close()\n",
    "print(a)"
   ]
  },
  {
   "cell_type": "code",
   "execution_count": 83,
   "metadata": {},
   "outputs": [
    {
     "name": "stdout",
     "output_type": "stream",
     "text": [
      "[1 2 3]\n"
     ]
    }
   ],
   "source": [
    "a = np.array([1,2,3])\n",
    "np.save(\"a.npy\", a)\n",
    "b = np.load(\"a.npy\")\n",
    "print(b)"
   ]
  },
  {
   "cell_type": "code",
   "execution_count": null,
   "metadata": {
    "collapsed": true
   },
   "outputs": [],
   "source": []
  },
  {
   "cell_type": "code",
   "execution_count": null,
   "metadata": {
    "collapsed": true
   },
   "outputs": [],
   "source": []
  },
  {
   "cell_type": "code",
   "execution_count": null,
   "metadata": {
    "collapsed": true
   },
   "outputs": [],
   "source": []
  },
  {
   "cell_type": "code",
   "execution_count": null,
   "metadata": {
    "collapsed": true
   },
   "outputs": [],
   "source": []
  },
  {
   "cell_type": "code",
   "execution_count": null,
   "metadata": {
    "collapsed": true
   },
   "outputs": [],
   "source": []
  },
  {
   "cell_type": "code",
   "execution_count": null,
   "metadata": {
    "collapsed": true
   },
   "outputs": [],
   "source": []
  },
  {
   "cell_type": "code",
   "execution_count": null,
   "metadata": {
    "collapsed": true
   },
   "outputs": [],
   "source": []
  },
  {
   "cell_type": "code",
   "execution_count": null,
   "metadata": {
    "collapsed": true
   },
   "outputs": [],
   "source": []
  },
  {
   "cell_type": "code",
   "execution_count": 9,
   "metadata": {},
   "outputs": [
    {
     "data": {
      "text/plain": [
       "array([ 16.], dtype=float32)"
      ]
     },
     "execution_count": 9,
     "metadata": {},
     "output_type": "execute_result"
    }
   ],
   "source": [
    "# 上記で説明したようにChainerは\"Define-by-Run\"の枠組みを利用しているので、forward計算それ自身がネットワークの定義となります。forward計算を始めるために、入力としてVariableオブジェクトを設定します。ここでは一個の要素を持ったシンプルなn次元配列から始めましょう。\n",
    "x_data = np.array([5], dtype=np.float32)\n",
    "x =Variable(x_data) \n",
    "y = x**2 -2*x +1\n",
    "y.data"
   ]
  },
  {
   "cell_type": "code",
   "execution_count": 11,
   "metadata": {
    "collapsed": true
   },
   "outputs": [],
   "source": [
    "# backwardは誤差逆伝播法(バックプロパゲーション）を走らせます。\n",
    "# そしてその勾配が計算され、変数xのgradフィールドに保存されます:\n",
    "y.backward()"
   ]
  },
  {
   "cell_type": "code",
   "execution_count": 12,
   "metadata": {
    "scrolled": true
   },
   "outputs": [
    {
     "data": {
      "text/plain": [
       "array([ 8.], dtype=float32)"
      ]
     },
     "execution_count": 12,
     "metadata": {},
     "output_type": "execute_result"
    }
   ],
   "source": [
    "x.grad"
   ]
  },
  {
   "cell_type": "code",
   "execution_count": 13,
   "metadata": {},
   "outputs": [
    {
     "data": {
      "text/plain": [
       "array([-1.], dtype=float32)"
      ]
     },
     "execution_count": 13,
     "metadata": {},
     "output_type": "execute_result"
    }
   ],
   "source": [
    "z = 2*x\n",
    "y = x**2 - z + 1\n",
    "y.backward(retain_grad=True)\n",
    "z.grad"
   ]
  },
  {
   "cell_type": "code",
   "execution_count": null,
   "metadata": {
    "collapsed": true
   },
   "outputs": [],
   "source": []
  }
 ],
 "metadata": {
  "kernelspec": {
   "display_name": "Python 3",
   "language": "python",
   "name": "python3"
  },
  "language_info": {
   "codemirror_mode": {
    "name": "ipython",
    "version": 3
   },
   "file_extension": ".py",
   "mimetype": "text/x-python",
   "name": "python",
   "nbconvert_exporter": "python",
   "pygments_lexer": "ipython3",
   "version": "3.6.1"
  }
 },
 "nbformat": 4,
 "nbformat_minor": 2
}
