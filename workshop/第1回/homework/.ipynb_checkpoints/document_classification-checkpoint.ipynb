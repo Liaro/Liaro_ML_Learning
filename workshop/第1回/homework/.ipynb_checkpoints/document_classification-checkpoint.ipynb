{
 "cells": [
  {
   "cell_type": "markdown",
   "metadata": {},
   "source": [
    "# 文書分類\n",
    "英語のニュースの文書をクラス分類する。"
   ]
  },
  {
   "cell_type": "code",
   "execution_count": 83,
   "metadata": {
    "collapsed": true
   },
   "outputs": [],
   "source": [
    "import numpy as np\n",
    "from sklearn.datasets import fetch_20newsgroups\n",
    "from sklearn.metrics import f1_score\n",
    "categories = ['alt.atheism', 'soc.religion.christian','comp.graphics', 'sci.med', 'rec.sport.baseball']\n",
    "all_data= fetch_20newsgroups(shuffle=True, categories=categories, random_state=42)"
   ]
  },
  {
   "cell_type": "code",
   "execution_count": 63,
   "metadata": {
    "collapsed": false
   },
   "outputs": [
    {
     "data": {
      "text/plain": [
       "91189"
      ]
     },
     "execution_count": 63,
     "metadata": {},
     "output_type": "execute_result"
    }
   ],
   "source": [
    "# vocabulary作成\n",
    "voc = []\n",
    "for data in all_data.data:\n",
    "    lines = data.split(\"\\n\")\n",
    "    for l in lines:\n",
    "        for w in l.split():\n",
    "            voc.append(w)\n",
    "voc = set(voc)\n",
    "len(voc)"
   ]
  },
  {
   "cell_type": "code",
   "execution_count": 78,
   "metadata": {
    "collapsed": false
   },
   "outputs": [],
   "source": [
    "# 特徴量作成\n",
    "all_X = []\n",
    "for data in all_data.data:\n",
    "    dic = {k:0 for k in voc}\n",
    "    lines = data.split(\"\\n\")\n",
    "    for l in lines:\n",
    "        for w in l.split():\n",
    "            try:\n",
    "                dic[w] += 1\n",
    "            except Exception as e:\n",
    "                print(e)\n",
    "    x = dic.values()\n",
    "    all_X.append(list(x))"
   ]
  },
  {
   "cell_type": "code",
   "execution_count": 68,
   "metadata": {
    "collapsed": false
   },
   "outputs": [
    {
     "name": "stdout",
     "output_type": "stream",
     "text": [
      "['alt.atheism', 'comp.graphics', 'rec.sport.baseball', 'sci.med', 'soc.religion.christian']\n"
     ]
    }
   ],
   "source": [
    "# ラベル作成\n",
    "all_y = all_data.target\n",
    "print(all_data.target_names)"
   ]
  },
  {
   "cell_type": "markdown",
   "metadata": {},
   "source": [
    "## 機械学習\n",
    "all_X, all_yをtrain/testに分けて、好きなモデルを用いて学習し、精度を測ってみよう！\n",
    "精度向上のために\n",
    "- データ分析(クラスごとのサンプル数の分布を見たり)\n",
    "- モデルチューニング\n",
    "- Confusion Matrixで誤分類の分析    \n",
    "\n",
    "これ以外にもまだまだあるので、考えたり、調べたりして見てください。"
   ]
  },
  {
   "cell_type": "code",
   "execution_count": 79,
   "metadata": {
    "collapsed": false
   },
   "outputs": [],
   "source": [
    "from sklearn.cross_validation import train_test_split\n",
    "train_X, test_X, train_y, test_y = train_test_split(all_X, all_y,\n",
    "                                                    test_size=0.2,\n",
    "                                                    random_state=43)\n",
    "# WRITE ME"
   ]
  }
 ],
 "metadata": {
  "kernelspec": {
   "display_name": "Python 3",
   "language": "python",
   "name": "python3"
  },
  "language_info": {
   "codemirror_mode": {
    "name": "ipython",
    "version": 3
   },
   "file_extension": ".py",
   "mimetype": "text/x-python",
   "name": "python",
   "nbconvert_exporter": "python",
   "pygments_lexer": "ipython3",
   "version": "3.5.1"
  }
 },
 "nbformat": 4,
 "nbformat_minor": 0
}
