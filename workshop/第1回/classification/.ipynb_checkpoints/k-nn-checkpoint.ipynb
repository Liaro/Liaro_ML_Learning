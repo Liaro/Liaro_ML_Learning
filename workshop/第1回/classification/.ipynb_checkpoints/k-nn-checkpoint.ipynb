{
 "cells": [
  {
   "cell_type": "markdown",
   "metadata": {},
   "source": [
    "# K-NN\n",
    "k近傍法によってmnistのデータを学習する。"
   ]
  },
  {
   "cell_type": "code",
   "execution_count": 1,
   "metadata": {
    "collapsed": false
   },
   "outputs": [
    {
     "name": "stderr",
     "output_type": "stream",
     "text": [
      "/Users/arakawariku/.pyenv/versions/miniconda3-3.19.0/envs/ml_env/lib/python3.5/site-packages/sklearn/cross_validation.py:44: DeprecationWarning: This module was deprecated in version 0.18 in favor of the model_selection module into which all the refactored classes and functions are moved. Also note that the interface of the new CV iterators are different from that of this module. This module will be removed in 0.20.\n",
      "  \"This module will be removed in 0.20.\", DeprecationWarning)\n"
     ]
    }
   ],
   "source": [
    "from collections import Counter\n",
    "from sklearn.utils import shuffle\n",
    "from sklearn.datasets import fetch_mldata\n",
    "from sklearn.metrics import f1_score\n",
    "from sklearn.cross_validation import train_test_split\n",
    "import numpy as np"
   ]
  },
  {
   "cell_type": "code",
   "execution_count": 4,
   "metadata": {
    "collapsed": true
   },
   "outputs": [],
   "source": [
    "mnist = fetch_mldata('MNIST original')\n",
    "mnist_X, mnist_y = shuffle(mnist.data.astype('float32'),\n",
    "                           mnist.target.astype('int32'), random_state=42)\n",
    "#mnist_X = mnist_X / 255.0\n",
    "train_X, test_X, train_y, test_y = train_test_split(mnist_X, mnist_y,\n",
    "                                                    test_size=0.2,\n",
    "                                                    random_state=43)"
   ]
  },
  {
   "cell_type": "code",
   "execution_count": 6,
   "metadata": {
    "collapsed": false
   },
   "outputs": [
    {
     "data": {
      "text/plain": [
       "784"
      ]
     },
     "execution_count": 6,
     "metadata": {},
     "output_type": "execute_result"
    }
   ],
   "source": [
    "len(train_X[0])"
   ]
  },
  {
   "cell_type": "code",
   "execution_count": 35,
   "metadata": {
    "collapsed": true
   },
   "outputs": [],
   "source": [
    "def cos_similarity(a, b):\n",
    "    norm_a = np.sqrt(np.sum(a**2))\n",
    "    norm_b = np.sqrt(np.sum(b**2))\n",
    "    cos = np.dot(a, b)\n",
    "    return cos/(norm_a*norm_b)"
   ]
  },
  {
   "cell_type": "markdown",
   "metadata": {},
   "source": [
    "### k-NN\n",
    "各testデータに対して、全trainデータとのcosを計算し、topK個のyの値の多数決で予測する。"
   ]
  },
  {
   "cell_type": "code",
   "execution_count": 36,
   "metadata": {
    "collapsed": false
   },
   "outputs": [],
   "source": [
    "def kNN(train_X, train_y, test_X, k=20):\n",
    "    pred_y = []\n",
    "    for test_data in test_X:\n",
    "        cos_array = []\n",
    "        for train_data in train_X:\n",
    "            cos = cos_similarity(test_data, train_data)\n",
    "            cos_array.append(cos)\n",
    "        sorted_array = sorted([ [s, l] for s, l  in zip(cos_array, train_y)], reverse=True)\n",
    "        top_k_array = sorted_array[:k]\n",
    "        counter =  Counter(list(map(lambda x: x[1], top_k_array)))\n",
    "        pred = counter.most_common()[0][0]\n",
    "        pred_y.append(pred)\n",
    "    return pred_y"
   ]
  },
  {
   "cell_type": "markdown",
   "metadata": {},
   "source": [
    "* 訓練データ10000個\n",
    "* テストデータ100個"
   ]
  },
  {
   "cell_type": "code",
   "execution_count": 32,
   "metadata": {
    "collapsed": false
   },
   "outputs": [
    {
     "name": "stdout",
     "output_type": "stream",
     "text": [
      "[8, 6, 3, 0, 0, 1, 9, 7, 5, 8, 0, 6, 8, 4, 7, 4, 5, 4, 3, 0, 7, 6, 2, 0, 9, 6, 8, 4, 0, 5, 1, 5, 7, 3, 9, 9, 7, 5, 5, 2, 6, 1, 5, 3, 4, 3, 9, 5, 7, 1, 3, 5, 6, 4, 8, 5, 8, 2, 8, 9, 4, 6, 4, 8, 0, 8, 8, 0, 6, 3, 2, 3, 8, 7, 3, 5, 1, 7, 6, 7, 1, 1, 5, 3, 0, 7, 1, 7, 4, 1, 4, 6, 2, 1, 6, 4, 9, 0, 7, 1]\n"
     ]
    }
   ],
   "source": [
    "train_X = train_X[:10000]\n",
    "train_y = train_y[:10000]\n",
    "test_X = test_X[:100]\n",
    "pred_y = kNN(train_X, train_y, test_X)\n",
    "print(pred_y)"
   ]
  },
  {
   "cell_type": "markdown",
   "metadata": {},
   "source": [
    "### f1_score"
   ]
  },
  {
   "cell_type": "code",
   "execution_count": 37,
   "metadata": {
    "collapsed": false
   },
   "outputs": [
    {
     "data": {
      "text/plain": [
       "0.93908488612836449"
      ]
     },
     "execution_count": 37,
     "metadata": {},
     "output_type": "execute_result"
    }
   ],
   "source": [
    "f1_score(test_y[:len(pred_y)], pred_y, average='macro')"
   ]
  },
  {
   "cell_type": "markdown",
   "metadata": {},
   "source": [
    "### 応用\n",
    "* grid searchを用いて最適なkを見つける。\n",
    "* train_X, test_Xを最初に正規化しておくことでcos計算時の計算量が削減できる。"
   ]
  }
 ],
 "metadata": {
  "kernelspec": {
   "display_name": "Python 3",
   "language": "python",
   "name": "python3"
  },
  "language_info": {
   "codemirror_mode": {
    "name": "ipython",
    "version": 3
   },
   "file_extension": ".py",
   "mimetype": "text/x-python",
   "name": "python",
   "nbconvert_exporter": "python",
   "pygments_lexer": "ipython3",
   "version": "3.5.1"
  }
 },
 "nbformat": 4,
 "nbformat_minor": 0
}
