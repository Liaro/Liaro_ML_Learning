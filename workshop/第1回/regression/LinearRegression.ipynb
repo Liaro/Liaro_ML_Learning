{
 "cells": [
  {
   "cell_type": "markdown",
   "metadata": {},
   "source": [
    "# 線形回帰分析（ワインの品質予測）\n",
    "\n",
    "Ashenfelter Orley, PREDICTING THE QUALITY AND PRICES OF BORDEAUX WINES,\n",
    "The Economic Jounal, vol.118, no.529, pp.F174-F184, 2008"
   ]
  },
  {
   "cell_type": "markdown",
   "metadata": {},
   "source": [
    "説明変数 x から正しい教師信号 y となるパラメータ p （＋バイアス intercept）を決める問題   \n",
    "線形回帰分析には単回帰分析と重回帰分析という方法があります。\n",
    "## a) 単回帰分析（説明変数 _x_ とパラメータ _p_ が1次元）\n",
    "\n",
    "$$y = p_1*x_1 + intercept$$\n",
    "\n",
    "## b) 重回帰分析（説明変数 _x_ とパラメータ _p_ が多次元）\n",
    "$$y = p_1*x_1 + p_2*x_2 + p_3*x_3 + p_4*x_4 + intercept$$"
   ]
  },
  {
   "cell_type": "markdown",
   "metadata": {},
   "source": [
    "今回は重回帰分析のテストとしてボルドー産ワインの品質を予測します。   \n",
    "（アッシェンフェルターのワイン方程式という重回帰分析の代表的な問題です）\n",
    "## ライブラリの読み込み"
   ]
  },
  {
   "cell_type": "code",
   "execution_count": 1,
   "metadata": {
    "collapsed": true
   },
   "outputs": [],
   "source": [
    "import csv\n",
    "import os\n",
    "import numpy as np\n",
    "from sklearn.linear_model import LinearRegression\n",
    "from sklearn.cross_validation import train_test_split"
   ]
  },
  {
   "cell_type": "markdown",
   "metadata": {},
   "source": [
    "## データセットの読み込み\n",
    "ワインの品質データはwine-ashenfelter.csvに記述してあります。   \n",
    "（ http://www.liquidasset.com/winedata.html で公開されています。）\n",
    "\n",
    "中には1952年～1980年までのワインデータがあります。\n",
    "（1954年と1956年は欠番です）\n",
    "\n",
    "## データの属性\n",
    "\n",
    "* VINT : 年\n",
    "* LPRICE2(_y_) : 品質，log(その年の平均価格/1961年の平均価格)\n",
    "* WRAIN(_x1_) : 冬(10月~3月)の降雨量 [ml]\n",
    "* DEGREES(_x2_) : 育成期(4月~9月)の平均気温 [deg C]\n",
    "* HRAIN(_x3_) : 収穫期(8月~9月)の降雨量 [ml]\n",
    "* TIME_SV(_x4_) : 熟成年数(83年基準)"
   ]
  },
  {
   "cell_type": "code",
   "execution_count": 11,
   "metadata": {
    "collapsed": false
   },
   "outputs": [
    {
     "name": "stdout",
     "output_type": "stream",
     "text": [
      "(27L, 4L)\n",
      "(27L,)\n"
     ]
    }
   ],
   "source": [
    "csv_path = os.path.join(\"data\", \"regression\", \"wine-ashenfelter.csv\")\n",
    "with open(csv_path, \"r\") as f:\n",
    "    rd = csv.reader(f)\n",
    "    first_line = next(rd)\n",
    "    data_set = np.asarray(\n",
    "        [[float(rd_elem) for rd_elem in rd_line] for rd_line in rd])\n",
    "\n",
    "X = data_set[:, 2:6]\n",
    "Y = data_set[:, 1]\n",
    "print X.shape\n",
    "print Y.shape"
   ]
  },
  {
   "cell_type": "markdown",
   "metadata": {},
   "source": [
    "## 訓練データとテストデータ\n",
    "データセットを訓練データとテストデータに分割します。\n",
    "一般的に、テストデータが10%~25%となるように分割します。"
   ]
  },
  {
   "cell_type": "code",
   "execution_count": 4,
   "metadata": {
    "collapsed": true
   },
   "outputs": [],
   "source": [
    "# split dataset into training and test data\n",
    "x_train, x_test, y_train, y_test = train_test_split(X, Y, test_size=0.1)"
   ]
  },
  {
   "cell_type": "code",
   "execution_count": 5,
   "metadata": {
    "collapsed": false
   },
   "outputs": [
    {
     "data": {
      "text/plain": [
       "LinearRegression(copy_X=True, fit_intercept=True, n_jobs=1, normalize=False)"
      ]
     },
     "execution_count": 5,
     "metadata": {},
     "output_type": "execute_result"
    }
   ],
   "source": [
    "# fitting model\n",
    "lr = LinearRegression()\n",
    "lr.fit(x_train, y_train)"
   ]
  },
  {
   "cell_type": "markdown",
   "metadata": {},
   "source": [
    "## 当てはまりの評価と回帰結果（パラメータ）\n",
    "\n",
    "　回帰分析の評価基準としてR2値が一般的に使われます。   \n",
    "　R2値は回帰結果（パラメータ）の当てはまりの良さを0~1で示しており、1に近いほど良く当てはまっています。（0.7~0.8以上だと妥当な結果だと言えます。Rは相関係数のことです。）\n",
    "\n",
    "論文内のR^2値と回帰結果（パラメータ）は以下の通り\n",
    "* R2 : 0.8275\n",
    "* params : [0.001167,  0.616397, -0.003860, 0.023847]\n",
    "* intercept : -12.145398"
   ]
  },
  {
   "cell_type": "code",
   "execution_count": 9,
   "metadata": {
    "collapsed": false
   },
   "outputs": [
    {
     "name": "stdout",
     "output_type": "stream",
     "text": [
      "R2\n",
      "    0.718128180263\n",
      "params\n",
      "    p1 = 0.000617953065558\n",
      "    p2 = 0.617302327843\n",
      "    p3 = -0.00376261732081\n",
      "    p4 = 0.022806964818\n",
      "    intercept = -11.8256226699\n"
     ]
    }
   ],
   "source": [
    "# validation\n",
    "print \"R2\"\n",
    "print \"    \" + str(lr.score(x_test, y_test))\n",
    "\n",
    "print \"params\"\n",
    "print \"    p1 = \" + str(lr.coef_[0])\n",
    "print \"    p2 = \" + str(lr.coef_[1])\n",
    "print \"    p3 = \" + str(lr.coef_[2])\n",
    "print \"    p4 = \" + str(lr.coef_[3])\n",
    "print \"    intercept = \" + str(lr.intercept_)"
   ]
  },
  {
   "cell_type": "code",
   "execution_count": null,
   "metadata": {
    "collapsed": true
   },
   "outputs": [],
   "source": []
  }
 ],
 "metadata": {
  "kernelspec": {
   "display_name": "Python 3",
   "language": "python",
   "name": "python3"
  },
  "language_info": {
   "codemirror_mode": {
    "name": "ipython",
    "version": 3
   },
   "file_extension": ".py",
   "mimetype": "text/x-python",
   "name": "python",
   "nbconvert_exporter": "python",
   "pygments_lexer": "ipython3",
   "version": "3.5.1"
  }
 },
 "nbformat": 4,
 "nbformat_minor": 0
}
